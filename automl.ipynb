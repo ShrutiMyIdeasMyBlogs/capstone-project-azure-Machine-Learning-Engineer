{
  "cells": [
    {
      "cell_type": "code",
      "source": [
        "import azureml.core \r\n",
        "from azureml.core.experiment import Experiment\r\n",
        "from azureml.core.workspace import Workspace\r\n",
        "from azureml.train.automl import AutoMLConfig\r\n",
        "from azureml.core.dataset import Dataset\r\n",
        "import logging"
      ],
      "outputs": [],
      "execution_count": 7,
      "metadata": {
        "gather": {
          "logged": 1669828597795
        }
      }
    },
    {
      "cell_type": "code",
      "source": [
        "ws = Workspace.from_config()\r\n",
        "\r\n",
        "# choose a name for experiment\r\n",
        "experiment_name = 'capstone-automl'\r\n",
        "experiment=Experiment(ws, experiment_name)\r\n",
        "# Choose a name for the run history container in the workspace.\r\n",
        "# NOTE: update these to match your existing experiment name\r\n",
        "project_folder = './capstone-project-folder'"
      ],
      "outputs": [],
      "execution_count": 8,
      "metadata": {
        "jupyter": {
          "source_hidden": false,
          "outputs_hidden": false
        },
        "nteract": {
          "transient": {
            "deleting": false
          }
        },
        "gather": {
          "logged": 1669828603867
        }
      }
    },
    {
      "cell_type": "code",
      "source": [
        "from azureml.core.compute import AmlCompute\r\n",
        "from azureml.core.compute import ComputeTarget\r\n",
        "from azureml.core.compute_target import ComputeTargetException\r\n",
        "\r\n",
        "# NOTE: update the cluster name to match the existing cluster\r\n",
        "# Choose a name for your CPU cluster\r\n",
        "amlcompute_cluster_name =  \"compute-cluster\"\r\n",
        "\r\n",
        "# Verify that cluster does not exist already\r\n",
        "try:\r\n",
        "    compute_target = ComputeTarget(workspace=ws, name=amlcompute_cluster_name)\r\n",
        "    print('Found existing cluster, use it.')\r\n",
        "except ComputeTargetException:\r\n",
        "    compute_config = AmlCompute.provisioning_configuration(vm_size='STANDARD_D2_V2',# for GPU, use \"STANDARD_NC6\"\r\n",
        "                                                          # vm_priority = 'lowpriority', # optional\r\n",
        "                                                           max_nodes=4)\r\n",
        "    compute_target = ComputeTarget.create(ws, amlcompute_cluster_name, compute_config)\r\n",
        "\r\n",
        "compute_target.wait_for_completion(show_output=True, min_node_count = 1, timeout_in_minutes = 10)\r\n",
        "# For a more detailed view of current AmlCompute status, use get_status()."
      ],
      "outputs": [
        {
          "output_type": "stream",
          "name": "stdout",
          "text": "Found existing cluster, use it.\nSucceeded.........................................................................................................\nAmlCompute wait for completion finished\n\nWait timeout has been reached\nCurrent provisioning state of AmlCompute is \"Succeeded\" and current node count is \"0\"\n"
        }
      ],
      "execution_count": 9,
      "metadata": {
        "jupyter": {
          "source_hidden": false,
          "outputs_hidden": false
        },
        "nteract": {
          "transient": {
            "deleting": false
          }
        },
        "gather": {
          "logged": 1669829221935
        }
      }
    },
    {
      "cell_type": "code",
      "source": [
        "# Try to load the dataset from the Workspace. Otherwise, create it from the file\r\n",
        "# NOTE: update the key to match the dataset name\r\n",
        "found = False\r\n",
        "key = \"automl-capstone\"\r\n",
        "description_text = \"bankmarketing train data\"\r\n",
        "\r\n",
        "if key in ws.datasets.keys(): \r\n",
        "        found = True\r\n",
        "        dataset = ws.datasets[key] \r\n",
        "\r\n",
        "if not found:\r\n",
        "        # Create AML Dataset and register it into Workspace\r\n",
        "        example_data =  \"https://automlsamplenotebookdata.blob.core.windows.net/automl-sample-notebook-data/bankmarketing_train.csv\"\r\n",
        "        dataset = Dataset.Tabular.from_delimited_files(example_data)        \r\n",
        "        #Register Dataset in Workspace\r\n",
        "        dataset = dataset.register(workspace=ws,\r\n",
        "                                   name=key,\r\n",
        "                                   description=description_text)\r\n",
        "\r\n",
        "\r\n",
        "df = dataset.to_pandas_dataframe()\r\n",
        "df.describe()"
      ],
      "outputs": [
        {
          "output_type": "execute_result",
          "execution_count": 10,
          "data": {
            "text/plain": "                age      duration      campaign         pdays      previous  \\\ncount  32950.000000  32950.000000  32950.000000  32950.000000  32950.000000   \nmean      40.040212    257.335205      2.561730    962.174780      0.174780   \nstd       10.432313    257.331700      2.763646    187.646785      0.496503   \nmin       17.000000      0.000000      1.000000      0.000000      0.000000   \n25%       32.000000    102.000000      1.000000    999.000000      0.000000   \n50%       38.000000    179.000000      2.000000    999.000000      0.000000   \n75%       47.000000    318.000000      3.000000    999.000000      0.000000   \nmax       98.000000   4918.000000     56.000000    999.000000      7.000000   \n\n       emp.var.rate  cons.price.idx  cons.conf.idx     euribor3m   nr.employed  \ncount  32950.000000    32950.000000   32950.000000  32950.000000  32950.000000  \nmean       0.076228       93.574243     -40.518680      3.615654   5166.859608  \nstd        1.572242        0.578636       4.623004      1.735748     72.208448  \nmin       -3.400000       92.201000     -50.800000      0.634000   4963.600000  \n25%       -1.800000       93.075000     -42.700000      1.344000   5099.100000  \n50%        1.100000       93.749000     -41.800000      4.857000   5191.000000  \n75%        1.400000       93.994000     -36.400000      4.961000   5228.100000  \nmax        1.400000       94.767000     -26.900000      5.045000   5228.100000  ",
            "text/html": "<div>\n<style scoped>\n    .dataframe tbody tr th:only-of-type {\n        vertical-align: middle;\n    }\n\n    .dataframe tbody tr th {\n        vertical-align: top;\n    }\n\n    .dataframe thead th {\n        text-align: right;\n    }\n</style>\n<table border=\"1\" class=\"dataframe\">\n  <thead>\n    <tr style=\"text-align: right;\">\n      <th></th>\n      <th>age</th>\n      <th>duration</th>\n      <th>campaign</th>\n      <th>pdays</th>\n      <th>previous</th>\n      <th>emp.var.rate</th>\n      <th>cons.price.idx</th>\n      <th>cons.conf.idx</th>\n      <th>euribor3m</th>\n      <th>nr.employed</th>\n    </tr>\n  </thead>\n  <tbody>\n    <tr>\n      <th>count</th>\n      <td>32950.000000</td>\n      <td>32950.000000</td>\n      <td>32950.000000</td>\n      <td>32950.000000</td>\n      <td>32950.000000</td>\n      <td>32950.000000</td>\n      <td>32950.000000</td>\n      <td>32950.000000</td>\n      <td>32950.000000</td>\n      <td>32950.000000</td>\n    </tr>\n    <tr>\n      <th>mean</th>\n      <td>40.040212</td>\n      <td>257.335205</td>\n      <td>2.561730</td>\n      <td>962.174780</td>\n      <td>0.174780</td>\n      <td>0.076228</td>\n      <td>93.574243</td>\n      <td>-40.518680</td>\n      <td>3.615654</td>\n      <td>5166.859608</td>\n    </tr>\n    <tr>\n      <th>std</th>\n      <td>10.432313</td>\n      <td>257.331700</td>\n      <td>2.763646</td>\n      <td>187.646785</td>\n      <td>0.496503</td>\n      <td>1.572242</td>\n      <td>0.578636</td>\n      <td>4.623004</td>\n      <td>1.735748</td>\n      <td>72.208448</td>\n    </tr>\n    <tr>\n      <th>min</th>\n      <td>17.000000</td>\n      <td>0.000000</td>\n      <td>1.000000</td>\n      <td>0.000000</td>\n      <td>0.000000</td>\n      <td>-3.400000</td>\n      <td>92.201000</td>\n      <td>-50.800000</td>\n      <td>0.634000</td>\n      <td>4963.600000</td>\n    </tr>\n    <tr>\n      <th>25%</th>\n      <td>32.000000</td>\n      <td>102.000000</td>\n      <td>1.000000</td>\n      <td>999.000000</td>\n      <td>0.000000</td>\n      <td>-1.800000</td>\n      <td>93.075000</td>\n      <td>-42.700000</td>\n      <td>1.344000</td>\n      <td>5099.100000</td>\n    </tr>\n    <tr>\n      <th>50%</th>\n      <td>38.000000</td>\n      <td>179.000000</td>\n      <td>2.000000</td>\n      <td>999.000000</td>\n      <td>0.000000</td>\n      <td>1.100000</td>\n      <td>93.749000</td>\n      <td>-41.800000</td>\n      <td>4.857000</td>\n      <td>5191.000000</td>\n    </tr>\n    <tr>\n      <th>75%</th>\n      <td>47.000000</td>\n      <td>318.000000</td>\n      <td>3.000000</td>\n      <td>999.000000</td>\n      <td>0.000000</td>\n      <td>1.400000</td>\n      <td>93.994000</td>\n      <td>-36.400000</td>\n      <td>4.961000</td>\n      <td>5228.100000</td>\n    </tr>\n    <tr>\n      <th>max</th>\n      <td>98.000000</td>\n      <td>4918.000000</td>\n      <td>56.000000</td>\n      <td>999.000000</td>\n      <td>7.000000</td>\n      <td>1.400000</td>\n      <td>94.767000</td>\n      <td>-26.900000</td>\n      <td>5.045000</td>\n      <td>5228.100000</td>\n    </tr>\n  </tbody>\n</table>\n</div>"
          },
          "metadata": {}
        }
      ],
      "execution_count": 10,
      "metadata": {
        "jupyter": {
          "source_hidden": false,
          "outputs_hidden": false
        },
        "nteract": {
          "transient": {
            "deleting": false
          }
        },
        "gather": {
          "logged": 1669829224786
        }
      }
    },
    {
      "cell_type": "code",
      "source": [
        "from azureml.automl.core.forecasting_parameters import ForecastingParameters\r\n",
        "\r\n",
        "automl_settings = {\r\n",
        "    \"experiment_timeout_minutes\": 60,\r\n",
        "    \"max_concurrent_iterations\": 5,\r\n",
        "    \"primary_metric\" : 'accuracy'\r\n",
        "}\r\n",
        "automl_config = AutoMLConfig(compute_target=compute_target,\r\n",
        "                             task = \"classification\",\r\n",
        "                             training_data=dataset,\r\n",
        "                             label_column_name=\"y\",   \r\n",
        "                             path = project_folder,\r\n",
        "                             enable_early_stopping= True,\r\n",
        "                             featurization= 'auto',\r\n",
        "                             debug_log = \"automl_errors.log\",\r\n",
        "                             **automl_settings\r\n",
        "                            )    "
      ],
      "outputs": [],
      "execution_count": 11,
      "metadata": {
        "jupyter": {
          "source_hidden": false,
          "outputs_hidden": false
        },
        "nteract": {
          "transient": {
            "deleting": false
          }
        },
        "gather": {
          "logged": 1669829224961
        }
      }
    },
    {
      "cell_type": "code",
      "source": [
        "# Submit your experiment\r\n",
        "remote_run = experiment.submit(automl_config, show_output=True)"
      ],
      "outputs": [
        {
          "output_type": "stream",
          "name": "stdout",
          "text": "Submitting remote run.\nNo run_configuration provided, running on compute-cluster with default configuration\nRunning on remote compute: compute-cluster\n"
        },
        {
          "output_type": "display_data",
          "data": {
            "text/plain": "<IPython.core.display.HTML object>",
            "text/html": "<table style=\"width:100%\"><tr><th>Experiment</th><th>Id</th><th>Type</th><th>Status</th><th>Details Page</th><th>Docs Page</th></tr><tr><td>capstone-automl</td><td>AutoML_f7741924-507a-4922-89f4-f28de06f64ee</td><td>automl</td><td>NotStarted</td><td><a href=\"https://ml.azure.com/runs/AutoML_f7741924-507a-4922-89f4-f28de06f64ee?wsid=/subscriptions/cca320dc-f2a1-497e-8a7a-eecff48abbb9/resourcegroups/rg1/workspaces/ws-1&amp;tid=433635a2-449e-4337-a0ce-f02710ee940d\" target=\"_blank\" rel=\"noopener\">Link to Azure Machine Learning studio</a></td><td><a href=\"https://docs.microsoft.com/en-us/python/api/overview/azure/ml/intro?view=azure-ml-py\" target=\"_blank\" rel=\"noopener\">Link to Documentation</a></td></tr></table>"
          },
          "metadata": {}
        },
        {
          "output_type": "stream",
          "name": "stdout",
          "text": "\nCurrent status: FeaturesGeneration. Generating features for the dataset.\nCurrent status: DatasetFeaturization. Beginning to fit featurizers and featurize the dataset.\nCurrent status: DatasetBalancing. Performing class balancing sweeping\nCurrent status: ModelSelection. Beginning model selection.\n\n********************************************************************************************\nDATA GUARDRAILS: \n\nTYPE:         Train-Test data split\nSTATUS:       DONE\nDESCRIPTION:  In order to accurately evaluate the model(s) trained by AutoML, we leverage a dataset that the model is not trained on. Hence, if the user doesn't provide an explicit validation dataset, a part of the training dataset is used to achieve this. For smaller datasets (fewer than 20,000 samples), cross-validation is leveraged, else a single hold-out set is split from the training data to serve as the validation dataset. Hence, your input data has been split into a training dataset and a holdout validation dataset.\n              Learn more about validation data: https://aka.ms/AutomatedMLDataSplit\nDETAILS:      \n+------------------------------+------------------------------+------------------------------+\n|Dataset                       |Row counts                    |Percentage                    |\n+==============================+==============================+==============================+\n|train                         |29655                         |90.0                          |\n|test                          |3295                          |10.0                          |\n+------------------------------+------------------------------+------------------------------+\n\n********************************************************************************************\n\nTYPE:         Class balancing detection\nSTATUS:       ALERTED\nDESCRIPTION:  To decrease model bias, please cancel the current run and fix balancing problem.\n              Learn more about imbalanced data: https://aka.ms/AutomatedMLImbalancedData\nDETAILS:      Imbalanced data can lead to a falsely perceived positive effect of a model's accuracy because the input data has bias towards one class.\n+------------------------------+--------------------------------+--------------------------------------+\n|Size of the smallest class    |Name/Label of the smallest class|Number of samples in the training data|\n+==============================+================================+======================================+\n|3323                          |yes                             |29655                                 |\n+------------------------------+--------------------------------+--------------------------------------+\n\n********************************************************************************************\n\nTYPE:         Missing feature values imputation\nSTATUS:       PASSED\nDESCRIPTION:  No feature missing values were detected in the training data.\n              Learn more about missing value imputation: https://aka.ms/AutomatedMLFeaturization\n\n********************************************************************************************\n\nTYPE:         High cardinality feature detection\nSTATUS:       PASSED\nDESCRIPTION:  Your inputs were analyzed, and no high cardinality features were detected.\n              Learn more about high cardinality feature handling: https://aka.ms/AutomatedMLFeaturization\n\n********************************************************************************************\n\n********************************************************************************************\nITER: The iteration being evaluated.\nPIPELINE: A summary description of the pipeline being evaluated.\nDURATION: Time taken for the current iteration.\nMETRIC: The result of computing score on the fitted pipeline.\nBEST: The best observed score thus far.\n********************************************************************************************\n\n ITER   PIPELINE                                       DURATION            METRIC      BEST\n    0   MaxAbsScaler LightGBM                          0:00:15             0.9102    0.9102\n    1   MaxAbsScaler XGBoostClassifier                 0:00:37             0.9117    0.9117\n    2   MaxAbsScaler ExtremeRandomTrees                0:00:17             0.7259    0.9117\n    3   SparseNormalizer XGBoostClassifier             0:04:11             0.9102    0.9117\n    4   MaxAbsScaler LightGBM                          0:00:16             0.9086    0.9117\n    5   MaxAbsScaler LightGBM                          0:00:15             0.8886    0.9117\n    6   StandardScalerWrapper XGBoostClassifier        0:00:15             0.9120    0.9120\n    7   MaxAbsScaler LogisticRegression                0:00:16             0.9035    0.9120\n    8   StandardScalerWrapper ExtremeRandomTrees       0:00:15             0.8880    0.9120\n    9   StandardScalerWrapper XGBoostClassifier        0:00:15             0.9102    0.9120\n   10   SparseNormalizer LightGBM                      0:00:15             0.9068    0.9120\n   11   StandardScalerWrapper XGBoostClassifier        0:00:15             0.9132    0.9132\n   12   MaxAbsScaler LogisticRegression                0:00:16             0.9011    0.9132\n   13   MaxAbsScaler SGD                               0:00:15             0.8698    0.9132\n   14   StandardScalerWrapper XGBoostClassifier        0:00:16             0.9059    0.9132\n   15   SparseNormalizer RandomForest                  0:00:19             0.7948    0.9132\n   16   StandardScalerWrapper LogisticRegression       0:00:16             0.8989    0.9132\n   17   StandardScalerWrapper RandomForest             0:00:16             0.9002    0.9132\n   18   StandardScalerWrapper XGBoostClassifier        0:00:36             0.9114    0.9132\n   19   TruncatedSVDWrapper RandomForest               0:00:47             0.8049    0.9132\n   20   TruncatedSVDWrapper RandomForest               0:01:09             0.8106    0.9132\n   22   SparseNormalizer XGBoostClassifier             0:00:30             0.9074    0.9132\n   21   StandardScalerWrapper XGBoostClassifier        0:00:23             0.9099    0.9132\n   23   StandardScalerWrapper LogisticRegression       0:00:28             0.9014    0.9132\n   25   StandardScalerWrapper RandomForest             0:00:27             0.8880    0.9132\n   24   SparseNormalizer XGBoostClassifier             0:00:26             0.8880    0.9132\n   26   MaxAbsScaler LightGBM                          0:00:27             0.8880    0.9132\n   29   StandardScalerWrapper LightGBM                 0:00:28             0.9099    0.9132\n   28   StandardScalerWrapper LightGBM                 0:00:27             0.9071    0.9132\n   27   MaxAbsScaler LightGBM                          0:00:27             0.9044    0.9132\n   30   StandardScalerWrapper XGBoostClassifier        0:00:27             0.9035    0.9132\n   31   StandardScalerWrapper XGBoostClassifier        0:00:43             0.9126    0.9132\n   32   StandardScalerWrapper XGBoostClassifier        0:00:34             0.9138    0.9138\n   33   StandardScalerWrapper XGBoostClassifier        0:00:58             0.9108    0.9138\n   34   StandardScalerWrapper XGBoostClassifier        0:00:41             0.9065    0.9138\n   37   SparseNormalizer XGBoostClassifier             0:00:23             0.8998    0.9138\n   35   StandardScalerWrapper XGBoostClassifier        0:00:27             0.8880    0.9138\n   38   MaxAbsScaler LightGBM                          0:00:27             0.8880    0.9138\n   36   MaxAbsScaler LightGBM                          0:00:28             0.9077    0.9138\n   39   SparseNormalizer LightGBM                      0:00:27             0.8992    0.9138\n   40   StandardScalerWrapper XGBoostClassifier        0:00:28             0.8880    0.9138\n   41   StandardScalerWrapper XGBoostClassifier        0:00:34             0.9083    0.9138\n   42   StandardScalerWrapper LightGBM                 0:00:28             0.8895    0.9138\n   43   StandardScalerWrapper ExtremeRandomTrees       0:00:34             0.8880    0.9138\n   44   MaxAbsScaler LightGBM                          0:00:27             0.8995    0.9138\n   46   MaxAbsScaler ExtremeRandomTrees                0:00:31             0.8889    0.9138\n   45                                                  0:00:00                nan    0.9138\n   47   MaxAbsScaler LightGBM                          0:00:28             0.8880    0.9138\n   48                                                  0:00:00                nan    0.9138\n   49                                                  0:00:00                nan    0.9138\n   50                                                  0:00:00                nan    0.9138\n   52    StackEnsemble                                 0:05:47             0.9138    0.9138\n   51    VotingEnsemble                                0:04:47             0.9202    0.9202\n"
        }
      ],
      "execution_count": 12,
      "metadata": {
        "jupyter": {
          "source_hidden": false,
          "outputs_hidden": false
        },
        "nteract": {
          "transient": {
            "deleting": false
          }
        },
        "gather": {
          "logged": 1669832594055
        }
      }
    },
    {
      "cell_type": "code",
      "source": [
        "from azureml.widgets import RunDetails\r\n",
        "RunDetails(remote_run).show()\r\n",
        "remote_run.wait_for_completion()"
      ],
      "outputs": [
        {
          "output_type": "display_data",
          "data": {
            "text/plain": "_AutoMLWidget(widget_settings={'childWidgetDisplay': 'popup', 'send_telemetry': False, 'log_level': 'INFO', 's…",
            "application/vnd.jupyter.widget-view+json": {
              "version_major": 2,
              "version_minor": 0,
              "model_id": "e2e37ad5df814fc6982e06efda000d1b"
            }
          },
          "metadata": {}
        },
        {
          "output_type": "display_data",
          "data": {
            "application/aml.mini.widget.v1": "{\"status\": \"Completed\", \"workbench_run_details_uri\": \"https://ml.azure.com/runs/AutoML_f7741924-507a-4922-89f4-f28de06f64ee?wsid=/subscriptions/cca320dc-f2a1-497e-8a7a-eecff48abbb9/resourcegroups/rg1/workspaces/ws-1&tid=433635a2-449e-4337-a0ce-f02710ee940d\", \"run_id\": \"AutoML_f7741924-507a-4922-89f4-f28de06f64ee\", \"run_properties\": {\"run_id\": \"AutoML_f7741924-507a-4922-89f4-f28de06f64ee\", \"created_utc\": \"2022-11-30T17:29:21.121045Z\", \"properties\": {\"num_iterations\": \"1000\", \"training_type\": \"TrainFull\", \"acquisition_function\": \"EI\", \"primary_metric\": \"accuracy\", \"train_split\": \"0\", \"acquisition_parameter\": \"0\", \"num_cross_validation\": null, \"target\": \"compute-cluster\", \"AMLSettingsJsonString\": \"{\\\"path\\\":null,\\\"name\\\":\\\"capstone-automl\\\",\\\"subscription_id\\\":\\\"cca320dc-f2a1-497e-8a7a-eecff48abbb9\\\",\\\"resource_group\\\":\\\"rg1\\\",\\\"workspace_name\\\":\\\"ws-1\\\",\\\"region\\\":\\\"eastus2\\\",\\\"compute_target\\\":\\\"compute-cluster\\\",\\\"spark_service\\\":null,\\\"azure_service\\\":\\\"remote\\\",\\\"many_models\\\":false,\\\"pipeline_fetch_max_batch_size\\\":1,\\\"enable_batch_run\\\":true,\\\"enable_parallel_run\\\":false,\\\"num_procs\\\":null,\\\"enable_run_restructure\\\":false,\\\"start_auxiliary_runs_before_parent_complete\\\":false,\\\"enable_code_generation\\\":true,\\\"iterations\\\":1000,\\\"primary_metric\\\":\\\"accuracy\\\",\\\"task_type\\\":\\\"classification\\\",\\\"positive_label\\\":null,\\\"data_script\\\":null,\\\"test_size\\\":0.0,\\\"test_include_predictions_only\\\":false,\\\"validation_size\\\":0.0,\\\"n_cross_validations\\\":null,\\\"y_min\\\":null,\\\"y_max\\\":null,\\\"num_classes\\\":null,\\\"featurization\\\":\\\"auto\\\",\\\"_ignore_package_version_incompatibilities\\\":false,\\\"is_timeseries\\\":false,\\\"max_cores_per_iteration\\\":1,\\\"max_concurrent_iterations\\\":5,\\\"iteration_timeout_minutes\\\":null,\\\"mem_in_mb\\\":null,\\\"enforce_time_on_windows\\\":false,\\\"experiment_timeout_minutes\\\":60,\\\"experiment_exit_score\\\":null,\\\"partition_column_names\\\":null,\\\"whitelist_models\\\":null,\\\"blacklist_algos\\\":[\\\"TensorFlowLinearClassifier\\\",\\\"TensorFlowDNN\\\"],\\\"supported_models\\\":[\\\"MultinomialNaiveBayes\\\",\\\"DecisionTree\\\",\\\"TensorFlowLinearClassifier\\\",\\\"KNN\\\",\\\"TabnetClassifier\\\",\\\"XGBoostClassifier\\\",\\\"SVM\\\",\\\"LogisticRegression\\\",\\\"LightGBM\\\",\\\"LinearSVM\\\",\\\"TensorFlowDNN\\\",\\\"AveragedPerceptronClassifier\\\",\\\"SGD\\\",\\\"GradientBoosting\\\",\\\"ExtremeRandomTrees\\\",\\\"BernoulliNaiveBayes\\\",\\\"RandomForest\\\"],\\\"private_models\\\":[],\\\"auto_blacklist\\\":true,\\\"blacklist_samples_reached\\\":false,\\\"exclude_nan_labels\\\":true,\\\"verbosity\\\":20,\\\"_debug_log\\\":\\\"azureml_automl.log\\\",\\\"show_warnings\\\":false,\\\"model_explainability\\\":true,\\\"service_url\\\":null,\\\"sdk_url\\\":null,\\\"sdk_packages\\\":null,\\\"enable_onnx_compatible_models\\\":false,\\\"enable_split_onnx_featurizer_estimator_models\\\":false,\\\"vm_type\\\":\\\"STANDARD_D2_V2\\\",\\\"telemetry_verbosity\\\":20,\\\"send_telemetry\\\":true,\\\"enable_dnn\\\":false,\\\"scenario\\\":\\\"AutoML\\\",\\\"environment_label\\\":null,\\\"save_mlflow\\\":false,\\\"enable_categorical_indicators\\\":false,\\\"force_text_dnn\\\":false,\\\"enable_feature_sweeping\\\":true,\\\"enable_early_stopping\\\":true,\\\"early_stopping_n_iters\\\":10,\\\"arguments\\\":null,\\\"dataset_id\\\":\\\"e23ce264-cd45-41d2-a01f-f9751185e0ba\\\",\\\"hyperdrive_config\\\":null,\\\"validation_dataset_id\\\":null,\\\"run_source\\\":null,\\\"metrics\\\":null,\\\"enable_metric_confidence\\\":false,\\\"enable_ensembling\\\":true,\\\"enable_stack_ensembling\\\":true,\\\"ensemble_iterations\\\":15,\\\"enable_tf\\\":false,\\\"enable_subsampling\\\":null,\\\"subsample_seed\\\":null,\\\"enable_nimbusml\\\":false,\\\"enable_streaming\\\":false,\\\"force_streaming\\\":false,\\\"track_child_runs\\\":true,\\\"n_best_runs\\\":1,\\\"allowed_private_models\\\":[],\\\"label_column_name\\\":\\\"y\\\",\\\"weight_column_name\\\":null,\\\"cv_split_column_names\\\":null,\\\"enable_local_managed\\\":false,\\\"_local_managed_run_id\\\":null,\\\"cost_mode\\\":1,\\\"lag_length\\\":0,\\\"metric_operation\\\":\\\"maximize\\\",\\\"preprocess\\\":true}\", \"DataPrepJsonString\": \"{\\\\\\\"training_data\\\\\\\": {\\\\\\\"datasetId\\\\\\\": \\\\\\\"e23ce264-cd45-41d2-a01f-f9751185e0ba\\\\\\\"}, \\\\\\\"datasets\\\\\\\": 0}\", \"EnableSubsampling\": null, \"runTemplate\": \"AutoML\", \"azureml.runsource\": \"automl\", \"display_task_type\": \"classification\", \"dependencies_versions\": \"{\\\"azureml-widgets\\\": \\\"1.47.0\\\", \\\"azureml-training-tabular\\\": \\\"1.47.0\\\", \\\"azureml-train\\\": \\\"1.47.0\\\", \\\"azureml-train-restclients-hyperdrive\\\": \\\"1.47.0\\\", \\\"azureml-train-core\\\": \\\"1.47.0\\\", \\\"azureml-train-automl\\\": \\\"1.47.0\\\", \\\"azureml-train-automl-runtime\\\": \\\"1.47.0\\\", \\\"azureml-train-automl-client\\\": \\\"1.47.0\\\", \\\"azureml-tensorboard\\\": \\\"1.47.0\\\", \\\"azureml-telemetry\\\": \\\"1.47.0\\\", \\\"azureml-sdk\\\": \\\"1.47.0\\\", \\\"azureml-samples\\\": \\\"0+unknown\\\", \\\"azureml-responsibleai\\\": \\\"1.47.0\\\", \\\"azureml-pipeline\\\": \\\"1.47.0\\\", \\\"azureml-pipeline-steps\\\": \\\"1.47.0\\\", \\\"azureml-pipeline-core\\\": \\\"1.47.0\\\", \\\"azureml-opendatasets\\\": \\\"1.47.0\\\", \\\"azureml-mlflow\\\": \\\"1.47.0\\\", \\\"azureml-interpret\\\": \\\"1.47.0\\\", \\\"azureml-inference-server-http\\\": \\\"0.7.6\\\", \\\"azureml-explain-model\\\": \\\"1.47.0\\\", \\\"azureml-defaults\\\": \\\"1.47.0\\\", \\\"azureml-dataset-runtime\\\": \\\"1.47.0\\\", \\\"azureml-dataprep\\\": \\\"4.5.7\\\", \\\"azureml-dataprep-rslex\\\": \\\"2.11.4\\\", \\\"azureml-dataprep-native\\\": \\\"38.0.0\\\", \\\"azureml-datadrift\\\": \\\"1.47.0\\\", \\\"azureml-core\\\": \\\"1.47.0\\\", \\\"azureml-contrib-services\\\": \\\"1.47.0\\\", \\\"azureml-contrib-server\\\": \\\"1.47.0\\\", \\\"azureml-contrib-reinforcementlearning\\\": \\\"1.47.0\\\", \\\"azureml-contrib-pipeline-steps\\\": \\\"1.47.0\\\", \\\"azureml-contrib-notebook\\\": \\\"1.47.0\\\", \\\"azureml-contrib-fairness\\\": \\\"1.47.0\\\", \\\"azureml-contrib-dataset\\\": \\\"1.47.0\\\", \\\"azureml-contrib-automl-pipeline-steps\\\": \\\"1.47.0\\\", \\\"azureml-cli-common\\\": \\\"1.47.0\\\", \\\"azureml-automl-runtime\\\": \\\"1.47.0\\\", \\\"azureml-automl-dnn-nlp\\\": \\\"1.47.0\\\", \\\"azureml-automl-core\\\": \\\"1.47.0\\\", \\\"azureml-accel-models\\\": \\\"1.47.0\\\"}\", \"_aml_system_scenario_identification\": \"Remote.Parent\", \"ClientType\": \"SDK\", \"environment_cpu_name\": \"AzureML-AutoML\", \"environment_cpu_label\": \"prod\", \"environment_gpu_name\": \"AzureML-AutoML-GPU\", \"environment_gpu_label\": \"prod\", \"root_attribution\": \"automl\", \"attribution\": \"AutoML\", \"Orchestrator\": \"AutoML\", \"CancelUri\": \"https://eastus2.api.azureml.ms/jasmine/v1.0/subscriptions/cca320dc-f2a1-497e-8a7a-eecff48abbb9/resourceGroups/rg1/providers/Microsoft.MachineLearningServices/workspaces/ws-1/experimentids/4bc891f1-b8d7-432d-bf2f-eee23e8db37a/cancel/AutoML_f7741924-507a-4922-89f4-f28de06f64ee\", \"ClientSdkVersion\": \"1.46.1\", \"snapshotId\": \"00000000-0000-0000-0000-000000000000\", \"SetupRunId\": \"AutoML_f7741924-507a-4922-89f4-f28de06f64ee_setup\", \"SetupRunContainerId\": \"dcid.AutoML_f7741924-507a-4922-89f4-f28de06f64ee_setup\", \"FeaturizationRunJsonPath\": \"featurizer_container.json\", \"FeaturizationRunId\": \"AutoML_f7741924-507a-4922-89f4-f28de06f64ee_featurize\", \"ProblemInfoJsonString\": \"{\\\"dataset_num_categorical\\\": 0, \\\"is_sparse\\\": true, \\\"subsampling\\\": false, \\\"has_extra_col\\\": true, \\\"dataset_classes\\\": 2, \\\"dataset_features\\\": 132, \\\"dataset_samples\\\": 29655, \\\"single_frequency_class_detected\\\": false}\", \"ModelExplainRunId\": \"AutoML_f7741924-507a-4922-89f4-f28de06f64ee_ModelExplain\"}, \"tags\": {\"model_explain_run\": \"best_run\", \"_aml_system_automl_run_workspace_id\": \"fbbe4f3d-c12b-42d6-9684-6f6fe2bc1307\", \"_aml_system_azureml.automlComponent\": \"AutoML\", \"pipeline_id\": \"\", \"score\": \"\", \"predicted_cost\": \"\", \"fit_time\": \"\", \"training_percent\": \"\", \"iteration\": \"\", \"run_preprocessor\": \"\", \"run_algorithm\": \"\", \"dynamic_allowlisting_iterations\": \"<24>;<30>;<35>;<40>;<45>;<50>;\", \"_aml_system_azureml.automl_early_exit_message\": \"No scores improved over last 10 iterations, so experiment stopped early. This early stopping behavior can be disabled by setting enable_early_stopping = False in AutoMLConfig for notebook/python SDK runs.\", \"automl_best_child_run_id\": \"AutoML_f7741924-507a-4922-89f4-f28de06f64ee_51\", \"model_explain_best_run_child_id\": \"AutoML_f7741924-507a-4922-89f4-f28de06f64ee_51\"}, \"end_time_utc\": \"2022-11-30T18:22:44.856564Z\", \"status\": \"Completed\", \"log_files\": {}, \"log_groups\": [], \"run_duration\": \"0:53:23\", \"run_number\": \"1669829361\", \"run_queued_details\": {\"status\": \"Completed\", \"details\": null}}, \"child_runs\": [{\"run_id\": \"AutoML_f7741924-507a-4922-89f4-f28de06f64ee_setup\", \"run_number\": 1669829375, \"metric\": null, \"status\": \"Completed\", \"run_type\": \"azureml.scriptrun\", \"training_percent\": null, \"start_time\": \"2022-11-30T17:32:38.480237Z\", \"end_time\": \"2022-11-30T17:34:06.125224Z\", \"created_time\": \"2022-11-30T17:29:35.358739Z\", \"created_time_dt\": \"2022-11-30T17:29:35.358739Z\", \"duration\": \"0:04:30\", \"iteration\": null, \"goal\": null, \"run_name\": \"Completed\", \"run_properties\": null}, {\"run_id\": \"AutoML_f7741924-507a-4922-89f4-f28de06f64ee_featurize\", \"run_number\": 1669829646, \"metric\": null, \"status\": \"Completed\", \"run_type\": \"automl.featurization\", \"training_percent\": null, \"start_time\": \"2022-11-30T17:34:06.745761Z\", \"end_time\": \"2022-11-30T17:35:06.713307Z\", \"created_time\": \"2022-11-30T17:34:06.495938Z\", \"created_time_dt\": \"2022-11-30T17:34:06.495938Z\", \"duration\": \"0:01:00\", \"iteration\": null, \"goal\": null, \"run_name\": \"Completed\", \"run_properties\": null}, {\"run_id\": \"AutoML_f7741924-507a-4922-89f4-f28de06f64ee_0\", \"run_number\": 1669829707, \"metric\": null, \"status\": \"Completed\", \"run_type\": null, \"training_percent\": \"100\", \"start_time\": \"2022-11-30T17:35:23.377978Z\", \"end_time\": \"2022-11-30T17:35:38.713506Z\", \"created_time\": \"2022-11-30T17:35:07.803489Z\", \"created_time_dt\": \"2022-11-30T17:35:07.803489Z\", \"duration\": \"0:00:30\", \"iteration\": \"0\", \"goal\": \"accuracy_max\", \"run_name\": \"MaxAbsScaler, LightGBM\", \"run_properties\": \"copy=True\", \"primary_metric\": 0.91016692, \"best_metric\": 0.91016692}, {\"run_id\": \"AutoML_f7741924-507a-4922-89f4-f28de06f64ee_1\", \"run_number\": 1669829708, \"metric\": null, \"status\": \"Completed\", \"run_type\": null, \"training_percent\": \"100\", \"start_time\": \"2022-11-30T17:35:39.071715Z\", \"end_time\": \"2022-11-30T17:36:15.687754Z\", \"created_time\": \"2022-11-30T17:35:08.175471Z\", \"created_time_dt\": \"2022-11-30T17:35:08.175471Z\", \"duration\": \"0:01:07\", \"iteration\": \"1\", \"goal\": \"accuracy_max\", \"run_name\": \"MaxAbsScaler, XGBoostClassifier\", \"run_properties\": \"copy=True\", \"primary_metric\": 0.91168437, \"best_metric\": 0.91168437}, {\"run_id\": \"AutoML_f7741924-507a-4922-89f4-f28de06f64ee_worker_0\", \"run_number\": 1669829709, \"metric\": null, \"status\": \"Completed\", \"run_type\": \"azureml.scriptrun\", \"training_percent\": null, \"start_time\": \"2022-11-30T17:35:13.379918Z\", \"end_time\": \"2022-11-30T17:44:49.292472Z\", \"created_time\": \"2022-11-30T17:35:09.099852Z\", \"created_time_dt\": \"2022-11-30T17:35:09.099852Z\", \"duration\": \"0:09:40\", \"iteration\": null, \"goal\": null, \"run_name\": \"Completed\", \"run_properties\": null}, {\"run_id\": \"AutoML_f7741924-507a-4922-89f4-f28de06f64ee_6\", \"run_number\": 1669829711, \"metric\": null, \"status\": \"Completed\", \"run_type\": null, \"training_percent\": \"100\", \"start_time\": \"2022-11-30T17:45:39.744655Z\", \"end_time\": \"2022-11-30T17:45:55.177473Z\", \"created_time\": \"2022-11-30T17:35:11.58543Z\", \"created_time_dt\": \"2022-11-30T17:35:11.58543Z\", \"duration\": \"0:10:43\", \"iteration\": \"6\", \"goal\": \"accuracy_max\", \"run_name\": \"StandardScalerWrapper, XGBoostClassifier\", \"run_properties\": \"copy=True, with_mean=False, with_std=False\", \"primary_metric\": 0.91198786, \"best_metric\": 0.91198786}, {\"run_id\": \"AutoML_f7741924-507a-4922-89f4-f28de06f64ee_worker_1\", \"run_number\": 1669829712, \"metric\": null, \"status\": \"Completed\", \"run_type\": \"azureml.scriptrun\", \"training_percent\": null, \"start_time\": \"2022-11-30T17:44:57.789936Z\", \"end_time\": \"2022-11-30T17:46:16.11215Z\", \"created_time\": \"2022-11-30T17:35:12.170526Z\", \"created_time_dt\": \"2022-11-30T17:35:12.170526Z\", \"duration\": \"0:11:03\", \"iteration\": null, \"goal\": null, \"run_name\": \"Completed\", \"run_properties\": null}, {\"run_id\": \"AutoML_f7741924-507a-4922-89f4-f28de06f64ee_worker_2\", \"run_number\": 1669829713, \"metric\": null, \"status\": \"Completed\", \"run_type\": \"azureml.scriptrun\", \"training_percent\": null, \"start_time\": \"2022-11-30T17:46:22.578732Z\", \"end_time\": \"2022-11-30T17:47:38.01858Z\", \"created_time\": \"2022-11-30T17:35:13.778705Z\", \"created_time_dt\": \"2022-11-30T17:35:13.778705Z\", \"duration\": \"0:12:24\", \"iteration\": null, \"goal\": null, \"run_name\": \"Completed\", \"run_properties\": null}, {\"run_id\": \"AutoML_f7741924-507a-4922-89f4-f28de06f64ee_13\", \"run_number\": 1669829714, \"metric\": null, \"status\": \"Completed\", \"run_type\": null, \"training_percent\": \"100\", \"start_time\": \"2022-11-30T17:48:13.418186Z\", \"end_time\": \"2022-11-30T17:48:28.073494Z\", \"created_time\": \"2022-11-30T17:35:14.437313Z\", \"created_time_dt\": \"2022-11-30T17:35:14.437313Z\", \"duration\": \"0:13:13\", \"iteration\": \"13\", \"goal\": \"accuracy_max\", \"run_name\": \"MaxAbsScaler, SGD\", \"run_properties\": \"copy=True\", \"primary_metric\": 0.86980273, \"best_metric\": 0.91198786}, {\"run_id\": \"AutoML_f7741924-507a-4922-89f4-f28de06f64ee_worker_3\", \"run_number\": 1669829715, \"metric\": null, \"status\": \"Completed\", \"run_type\": \"azureml.scriptrun\", \"training_percent\": null, \"start_time\": \"2022-11-30T17:47:47.644999Z\", \"end_time\": \"2022-11-30T17:49:07.610325Z\", \"created_time\": \"2022-11-30T17:35:15.379718Z\", \"created_time_dt\": \"2022-11-30T17:35:15.379718Z\", \"duration\": \"0:13:52\", \"iteration\": null, \"goal\": null, \"run_name\": \"Completed\", \"run_properties\": null}, {\"run_id\": \"AutoML_f7741924-507a-4922-89f4-f28de06f64ee_worker_4\", \"run_number\": 1669829716, \"metric\": null, \"status\": \"Completed\", \"run_type\": \"azureml.scriptrun\", \"training_percent\": null, \"start_time\": \"2022-11-30T17:49:14.894196Z\", \"end_time\": \"2022-11-30T17:51:24.102775Z\", \"created_time\": \"2022-11-30T17:35:16.956607Z\", \"created_time_dt\": \"2022-11-30T17:35:16.956607Z\", \"duration\": \"0:16:07\", \"iteration\": null, \"goal\": null, \"run_name\": \"Completed\", \"run_properties\": null}, {\"run_id\": \"AutoML_f7741924-507a-4922-89f4-f28de06f64ee_20\", \"run_number\": 1669830545, \"metric\": null, \"status\": \"Completed\", \"run_type\": \"azureml.scriptrun\", \"training_percent\": \"100\", \"start_time\": \"2022-11-30T17:51:31.601201Z\", \"end_time\": \"2022-11-30T17:52:40.81527Z\", \"created_time\": \"2022-11-30T17:49:05.746748Z\", \"created_time_dt\": \"2022-11-30T17:49:05.746748Z\", \"duration\": \"0:03:35\", \"iteration\": \"20\", \"goal\": \"accuracy_max\", \"run_name\": \"TruncatedSVDWrapper, RandomForest\", \"run_properties\": \"n_components=0.7026315789473684, random_state=None\", \"primary_metric\": 0.81062215, \"best_metric\": 0.91198786}, {\"run_id\": \"AutoML_f7741924-507a-4922-89f4-f28de06f64ee_23\", \"run_number\": 1669830634, \"metric\": null, \"status\": \"Completed\", \"run_type\": \"azureml.scriptrun\", \"training_percent\": \"100\", \"start_time\": \"2022-11-30T17:53:56.293906Z\", \"end_time\": \"2022-11-30T17:54:24.523036Z\", \"created_time\": \"2022-11-30T17:50:34.11906Z\", \"created_time_dt\": \"2022-11-30T17:50:34.11906Z\", \"duration\": \"0:03:50\", \"iteration\": \"23\", \"goal\": \"accuracy_max\", \"run_name\": \"StandardScalerWrapper, LogisticRegression\", \"run_properties\": \"copy=True, with_mean=False, with_std=True\", \"primary_metric\": 0.90136571, \"best_metric\": 0.91198786}, {\"run_id\": \"AutoML_f7741924-507a-4922-89f4-f28de06f64ee_25\", \"run_number\": 1669830764, \"metric\": null, \"status\": \"Completed\", \"run_type\": \"azureml.scriptrun\", \"training_percent\": \"100\", \"start_time\": \"2022-11-30T17:54:31.681711Z\", \"end_time\": \"2022-11-30T17:54:58.535499Z\", \"created_time\": \"2022-11-30T17:52:44.853167Z\", \"created_time_dt\": \"2022-11-30T17:52:44.853167Z\", \"duration\": \"0:02:13\", \"iteration\": \"25\", \"goal\": \"accuracy_max\", \"run_name\": \"StandardScalerWrapper, RandomForest\", \"run_properties\": \"copy=True, with_mean=False, with_std=False\", \"primary_metric\": 0.88801214, \"best_metric\": 0.91198786}, {\"run_id\": \"AutoML_f7741924-507a-4922-89f4-f28de06f64ee_26\", \"run_number\": 1669830801, \"metric\": null, \"status\": \"Completed\", \"run_type\": \"azureml.scriptrun\", \"training_percent\": \"100\", \"start_time\": \"2022-11-30T17:55:41.247625Z\", \"end_time\": \"2022-11-30T17:56:08.324509Z\", \"created_time\": \"2022-11-30T17:53:21.190101Z\", \"created_time_dt\": \"2022-11-30T17:53:21.190101Z\", \"duration\": \"0:02:47\", \"iteration\": \"26\", \"goal\": \"accuracy_max\", \"run_name\": \"MaxAbsScaler, LightGBM\", \"run_properties\": \"copy=True\", \"primary_metric\": 0.88801214, \"best_metric\": 0.91198786}, {\"run_id\": \"AutoML_f7741924-507a-4922-89f4-f28de06f64ee_27\", \"run_number\": 1669830830, \"metric\": null, \"status\": \"Completed\", \"run_type\": \"azureml.scriptrun\", \"training_percent\": \"100\", \"start_time\": \"2022-11-30T17:57:24.239125Z\", \"end_time\": \"2022-11-30T17:57:51.420635Z\", \"created_time\": \"2022-11-30T17:53:50.533024Z\", \"created_time_dt\": \"2022-11-30T17:53:50.533024Z\", \"duration\": \"0:04:00\", \"iteration\": \"27\", \"goal\": \"accuracy_max\", \"run_name\": \"MaxAbsScaler, LightGBM\", \"run_properties\": \"copy=True\", \"primary_metric\": 0.90440061, \"best_metric\": 0.91198786}, {\"run_id\": \"AutoML_f7741924-507a-4922-89f4-f28de06f64ee_28\", \"run_number\": 1669830865, \"metric\": null, \"status\": \"Completed\", \"run_type\": \"azureml.scriptrun\", \"training_percent\": \"100\", \"start_time\": \"2022-11-30T17:56:48.009834Z\", \"end_time\": \"2022-11-30T17:57:14.88252Z\", \"created_time\": \"2022-11-30T17:54:25.684433Z\", \"created_time_dt\": \"2022-11-30T17:54:25.684433Z\", \"duration\": \"0:02:49\", \"iteration\": \"28\", \"goal\": \"accuracy_max\", \"run_name\": \"StandardScalerWrapper, LightGBM\", \"run_properties\": \"copy=True, with_mean=False, with_std=False\", \"primary_metric\": 0.90713202, \"best_metric\": 0.91198786}, {\"run_id\": \"AutoML_f7741924-507a-4922-89f4-f28de06f64ee_29\", \"run_number\": 1669830899, \"metric\": null, \"status\": \"Completed\", \"run_type\": \"azureml.scriptrun\", \"training_percent\": \"100\", \"start_time\": \"2022-11-30T17:56:14.625609Z\", \"end_time\": \"2022-11-30T17:56:42.453686Z\", \"created_time\": \"2022-11-30T17:54:59.744109Z\", \"created_time_dt\": \"2022-11-30T17:54:59.744109Z\", \"duration\": \"0:01:42\", \"iteration\": \"29\", \"goal\": \"accuracy_max\", \"run_name\": \"StandardScalerWrapper, LightGBM\", \"run_properties\": \"copy=True, with_mean=False, with_std=False\", \"primary_metric\": 0.90986343, \"best_metric\": 0.91198786}, {\"run_id\": \"AutoML_f7741924-507a-4922-89f4-f28de06f64ee_30\", \"run_number\": 1669830934, \"metric\": null, \"status\": \"Completed\", \"run_type\": \"azureml.scriptrun\", \"training_percent\": \"100\", \"start_time\": \"2022-11-30T17:57:57.562878Z\", \"end_time\": \"2022-11-30T17:58:24.662024Z\", \"created_time\": \"2022-11-30T17:55:34.008894Z\", \"created_time_dt\": \"2022-11-30T17:55:34.008894Z\", \"duration\": \"0:02:50\", \"iteration\": \"30\", \"goal\": \"accuracy_max\", \"run_name\": \"StandardScalerWrapper, XGBoostClassifier\", \"run_properties\": \"copy=True, with_mean=False, with_std=False\", \"primary_metric\": 0.90349014, \"best_metric\": 0.91198786}, {\"run_id\": \"AutoML_f7741924-507a-4922-89f4-f28de06f64ee_31\", \"run_number\": 1669830969, \"metric\": null, \"status\": \"Completed\", \"run_type\": \"azureml.scriptrun\", \"training_percent\": \"100\", \"start_time\": \"2022-11-30T17:58:30.697699Z\", \"end_time\": \"2022-11-30T17:59:13.885446Z\", \"created_time\": \"2022-11-30T17:56:09.582091Z\", \"created_time_dt\": \"2022-11-30T17:56:09.582091Z\", \"duration\": \"0:03:04\", \"iteration\": \"31\", \"goal\": \"accuracy_max\", \"run_name\": \"StandardScalerWrapper, XGBoostClassifier\", \"run_properties\": \"copy=True, with_mean=False, with_std=False\", \"primary_metric\": 0.91259484, \"best_metric\": 0.91259484}, {\"run_id\": \"AutoML_f7741924-507a-4922-89f4-f28de06f64ee_32\", \"run_number\": 1669831003, \"metric\": null, \"status\": \"Completed\", \"run_type\": \"azureml.scriptrun\", \"training_percent\": \"100\", \"start_time\": \"2022-11-30T17:59:22.088305Z\", \"end_time\": \"2022-11-30T17:59:56.265938Z\", \"created_time\": \"2022-11-30T17:56:43.822672Z\", \"created_time_dt\": \"2022-11-30T17:56:43.822672Z\", \"duration\": \"0:03:12\", \"iteration\": \"32\", \"goal\": \"accuracy_max\", \"run_name\": \"StandardScalerWrapper, XGBoostClassifier\", \"run_properties\": \"copy=True, with_mean=False, with_std=False\", \"primary_metric\": 0.9138088, \"best_metric\": 0.9138088}, {\"run_id\": \"AutoML_f7741924-507a-4922-89f4-f28de06f64ee_33\", \"run_number\": 1669831036, \"metric\": null, \"status\": \"Completed\", \"run_type\": \"azureml.scriptrun\", \"training_percent\": \"100\", \"start_time\": \"2022-11-30T18:00:04.537054Z\", \"end_time\": \"2022-11-30T18:01:02.344778Z\", \"created_time\": \"2022-11-30T17:57:16.16862Z\", \"created_time_dt\": \"2022-11-30T17:57:16.16862Z\", \"duration\": \"0:03:46\", \"iteration\": \"33\", \"goal\": \"accuracy_max\", \"run_name\": \"StandardScalerWrapper, XGBoostClassifier\", \"run_properties\": \"copy=True, with_mean=False, with_std=False\", \"primary_metric\": 0.9107739, \"best_metric\": 0.9138088}, {\"run_id\": \"AutoML_f7741924-507a-4922-89f4-f28de06f64ee_34\", \"run_number\": 1669831072, \"metric\": null, \"status\": \"Completed\", \"run_type\": \"azureml.scriptrun\", \"training_percent\": \"100\", \"start_time\": \"2022-11-30T18:01:09.071274Z\", \"end_time\": \"2022-11-30T18:01:49.575264Z\", \"created_time\": \"2022-11-30T17:57:52.835731Z\", \"created_time_dt\": \"2022-11-30T17:57:52.835731Z\", \"duration\": \"0:03:56\", \"iteration\": \"34\", \"goal\": \"accuracy_max\", \"run_name\": \"StandardScalerWrapper, XGBoostClassifier\", \"run_properties\": \"copy=True, with_mean=False, with_std=False\", \"primary_metric\": 0.90652504, \"best_metric\": 0.9138088}, {\"run_id\": \"AutoML_f7741924-507a-4922-89f4-f28de06f64ee_35\", \"run_number\": 1669831106, \"metric\": null, \"status\": \"Completed\", \"run_type\": \"azureml.scriptrun\", \"training_percent\": \"100\", \"start_time\": \"2022-11-30T18:02:27.967662Z\", \"end_time\": \"2022-11-30T18:02:55.18694Z\", \"created_time\": \"2022-11-30T17:58:26.728807Z\", \"created_time_dt\": \"2022-11-30T17:58:26.728807Z\", \"duration\": \"0:04:28\", \"iteration\": \"35\", \"goal\": \"accuracy_max\", \"run_name\": \"StandardScalerWrapper, XGBoostClassifier\", \"run_properties\": \"copy=True, with_mean=False, with_std=False\", \"primary_metric\": 0.88801214, \"best_metric\": 0.9138088}, {\"run_id\": \"AutoML_f7741924-507a-4922-89f4-f28de06f64ee_36\", \"run_number\": 1669831155, \"metric\": null, \"status\": \"Completed\", \"run_type\": \"azureml.scriptrun\", \"training_percent\": \"100\", \"start_time\": \"2022-11-30T18:03:34.176795Z\", \"end_time\": \"2022-11-30T18:04:02.040379Z\", \"created_time\": \"2022-11-30T17:59:15.498208Z\", \"created_time_dt\": \"2022-11-30T17:59:15.498208Z\", \"duration\": \"0:04:46\", \"iteration\": \"36\", \"goal\": \"accuracy_max\", \"run_name\": \"MaxAbsScaler, LightGBM\", \"run_properties\": \"copy=True\", \"primary_metric\": 0.907739, \"best_metric\": 0.9138088}, {\"run_id\": \"AutoML_f7741924-507a-4922-89f4-f28de06f64ee_37\", \"run_number\": 1669831197, \"metric\": null, \"status\": \"Completed\", \"run_type\": \"azureml.scriptrun\", \"training_percent\": \"100\", \"start_time\": \"2022-11-30T18:01:57.391257Z\", \"end_time\": \"2022-11-30T18:02:20.754014Z\", \"created_time\": \"2022-11-30T17:59:57.762739Z\", \"created_time_dt\": \"2022-11-30T17:59:57.762739Z\", \"duration\": \"0:02:22\", \"iteration\": \"37\", \"goal\": \"accuracy_max\", \"run_name\": \"SparseNormalizer, XGBoostClassifier\", \"run_properties\": \"copy=True, norm='max'\", \"primary_metric\": 0.89984825, \"best_metric\": 0.9138088}, {\"run_id\": \"AutoML_f7741924-507a-4922-89f4-f28de06f64ee_38\", \"run_number\": 1669831264, \"metric\": null, \"status\": \"Completed\", \"run_type\": \"azureml.scriptrun\", \"training_percent\": \"100\", \"start_time\": \"2022-11-30T18:03:00.96029Z\", \"end_time\": \"2022-11-30T18:03:28.159774Z\", \"created_time\": \"2022-11-30T18:01:04.042269Z\", \"created_time_dt\": \"2022-11-30T18:01:04.042269Z\", \"duration\": \"0:02:24\", \"iteration\": \"38\", \"goal\": \"accuracy_max\", \"run_name\": \"MaxAbsScaler, LightGBM\", \"run_properties\": \"copy=True\", \"primary_metric\": 0.88801214, \"best_metric\": 0.9138088}, {\"run_id\": \"AutoML_f7741924-507a-4922-89f4-f28de06f64ee_39\", \"run_number\": 1669831311, \"metric\": null, \"status\": \"Completed\", \"run_type\": \"azureml.scriptrun\", \"training_percent\": \"100\", \"start_time\": \"2022-11-30T18:04:11.114243Z\", \"end_time\": \"2022-11-30T18:04:38.240704Z\", \"created_time\": \"2022-11-30T18:01:51.06765Z\", \"created_time_dt\": \"2022-11-30T18:01:51.06765Z\", \"duration\": \"0:02:47\", \"iteration\": \"39\", \"goal\": \"accuracy_max\", \"run_name\": \"SparseNormalizer, LightGBM\", \"run_properties\": \"copy=True, norm='l1'\", \"primary_metric\": 0.89924127, \"best_metric\": 0.9138088}, {\"run_id\": \"AutoML_f7741924-507a-4922-89f4-f28de06f64ee_40\", \"run_number\": 1669831343, \"metric\": null, \"status\": \"Completed\", \"run_type\": \"azureml.scriptrun\", \"training_percent\": \"100\", \"start_time\": \"2022-11-30T18:04:44.047436Z\", \"end_time\": \"2022-11-30T18:05:12.090606Z\", \"created_time\": \"2022-11-30T18:02:23.034945Z\", \"created_time_dt\": \"2022-11-30T18:02:23.034945Z\", \"duration\": \"0:02:49\", \"iteration\": \"40\", \"goal\": \"accuracy_max\", \"run_name\": \"StandardScalerWrapper, XGBoostClassifier\", \"run_properties\": \"copy=True, with_mean=False, with_std=False\", \"primary_metric\": 0.88801214, \"best_metric\": 0.9138088}, {\"run_id\": \"AutoML_f7741924-507a-4922-89f4-f28de06f64ee_41\", \"run_number\": 1669831376, \"metric\": null, \"status\": \"Completed\", \"run_type\": \"azureml.scriptrun\", \"training_percent\": \"100\", \"start_time\": \"2022-11-30T18:05:20.917635Z\", \"end_time\": \"2022-11-30T18:05:55.072591Z\", \"created_time\": \"2022-11-30T18:02:56.505027Z\", \"created_time_dt\": \"2022-11-30T18:02:56.505027Z\", \"duration\": \"0:02:58\", \"iteration\": \"41\", \"goal\": \"accuracy_max\", \"run_name\": \"StandardScalerWrapper, XGBoostClassifier\", \"run_properties\": \"copy=True, with_mean=False, with_std=False\", \"primary_metric\": 0.90834598, \"best_metric\": 0.9138088}, {\"run_id\": \"AutoML_f7741924-507a-4922-89f4-f28de06f64ee_42\", \"run_number\": 1669831409, \"metric\": null, \"status\": \"Completed\", \"run_type\": \"azureml.scriptrun\", \"training_percent\": \"100\", \"start_time\": \"2022-11-30T18:06:02.488136Z\", \"end_time\": \"2022-11-30T18:06:30.364972Z\", \"created_time\": \"2022-11-30T18:03:29.473327Z\", \"created_time_dt\": \"2022-11-30T18:03:29.473327Z\", \"duration\": \"0:03:00\", \"iteration\": \"42\", \"goal\": \"accuracy_max\", \"run_name\": \"StandardScalerWrapper, LightGBM\", \"run_properties\": \"copy=True, with_mean=False, with_std=False\", \"primary_metric\": 0.88952959, \"best_metric\": 0.9138088}, {\"run_id\": \"AutoML_f7741924-507a-4922-89f4-f28de06f64ee_43\", \"run_number\": 1669831443, \"metric\": null, \"status\": \"Completed\", \"run_type\": \"azureml.scriptrun\", \"training_percent\": \"100\", \"start_time\": \"2022-11-30T18:06:39.250452Z\", \"end_time\": \"2022-11-30T18:07:13.740339Z\", \"created_time\": \"2022-11-30T18:04:03.425871Z\", \"created_time_dt\": \"2022-11-30T18:04:03.425871Z\", \"duration\": \"0:03:10\", \"iteration\": \"43\", \"goal\": \"accuracy_max\", \"run_name\": \"StandardScalerWrapper, ExtremeRandomTrees\", \"run_properties\": \"copy=True, with_mean=False, with_std=False\", \"primary_metric\": 0.88801214, \"best_metric\": 0.9138088}, {\"run_id\": \"AutoML_f7741924-507a-4922-89f4-f28de06f64ee_44\", \"run_number\": 1669831479, \"metric\": null, \"status\": \"Completed\", \"run_type\": \"azureml.scriptrun\", \"training_percent\": \"100\", \"start_time\": \"2022-11-30T18:07:21.58502Z\", \"end_time\": \"2022-11-30T18:07:48.753255Z\", \"created_time\": \"2022-11-30T18:04:39.485073Z\", \"created_time_dt\": \"2022-11-30T18:04:39.485073Z\", \"duration\": \"0:03:09\", \"iteration\": \"44\", \"goal\": \"accuracy_max\", \"run_name\": \"MaxAbsScaler, LightGBM\", \"run_properties\": \"copy=True\", \"primary_metric\": 0.89954476, \"best_metric\": 0.9138088}, {\"run_id\": \"AutoML_f7741924-507a-4922-89f4-f28de06f64ee_45\", \"run_number\": 1669831514, \"metric\": null, \"status\": \"Canceled\", \"run_type\": \"azureml.scriptrun\", \"training_percent\": \"100\", \"start_time\": \"2022-11-30T18:09:05.264427Z\", \"end_time\": \"2022-11-30T18:09:05.429117Z\", \"created_time\": \"2022-11-30T18:05:14.686297Z\", \"created_time_dt\": \"2022-11-30T18:05:14.686297Z\", \"duration\": \"0:03:50\", \"iteration\": \"45\", \"goal\": null, \"run_name\": \"Canceled\", \"run_properties\": null}, {\"run_id\": \"AutoML_f7741924-507a-4922-89f4-f28de06f64ee_46\", \"run_number\": 1669831556, \"metric\": null, \"status\": \"Completed\", \"run_type\": \"azureml.scriptrun\", \"training_percent\": \"100\", \"start_time\": \"2022-11-30T18:07:57.789097Z\", \"end_time\": \"2022-11-30T18:08:28.392666Z\", \"created_time\": \"2022-11-30T18:05:56.498688Z\", \"created_time_dt\": \"2022-11-30T18:05:56.498688Z\", \"duration\": \"0:02:31\", \"iteration\": \"46\", \"goal\": \"accuracy_max\", \"run_name\": \"MaxAbsScaler, ExtremeRandomTrees\", \"run_properties\": \"copy=True\", \"primary_metric\": 0.88892261, \"best_metric\": 0.9138088}, {\"run_id\": \"AutoML_f7741924-507a-4922-89f4-f28de06f64ee_47\", \"run_number\": 1669831591, \"metric\": null, \"status\": \"Completed\", \"run_type\": \"azureml.scriptrun\", \"training_percent\": \"100\", \"start_time\": \"2022-11-30T18:08:37.206308Z\", \"end_time\": \"2022-11-30T18:09:04.781523Z\", \"created_time\": \"2022-11-30T18:06:31.79818Z\", \"created_time_dt\": \"2022-11-30T18:06:31.79818Z\", \"duration\": \"0:02:32\", \"iteration\": \"47\", \"goal\": \"accuracy_max\", \"run_name\": \"MaxAbsScaler, LightGBM\", \"run_properties\": \"copy=True\", \"primary_metric\": 0.88801214, \"best_metric\": 0.9138088}, {\"run_id\": \"AutoML_f7741924-507a-4922-89f4-f28de06f64ee_48\", \"run_number\": 1669831635, \"metric\": null, \"status\": \"Canceled\", \"run_type\": \"azureml.scriptrun\", \"training_percent\": \"100\", \"start_time\": \"2022-11-30T18:09:05.304595Z\", \"end_time\": \"2022-11-30T18:09:05.503606Z\", \"created_time\": \"2022-11-30T18:07:15.236658Z\", \"created_time_dt\": \"2022-11-30T18:07:15.236658Z\", \"duration\": \"0:01:50\", \"iteration\": \"48\", \"goal\": null, \"run_name\": \"Canceled\", \"run_properties\": null}, {\"run_id\": \"AutoML_f7741924-507a-4922-89f4-f28de06f64ee_49\", \"run_number\": 1669831670, \"metric\": null, \"status\": \"Canceled\", \"run_type\": \"azureml.scriptrun\", \"training_percent\": \"100\", \"start_time\": \"2022-11-30T18:09:05.288218Z\", \"end_time\": \"2022-11-30T18:09:05.501328Z\", \"created_time\": \"2022-11-30T18:07:50.210902Z\", \"created_time_dt\": \"2022-11-30T18:07:50.210902Z\", \"duration\": \"0:01:15\", \"iteration\": \"49\", \"goal\": null, \"run_name\": \"Canceled\", \"run_properties\": null}, {\"run_id\": \"AutoML_f7741924-507a-4922-89f4-f28de06f64ee_50\", \"run_number\": 1669831710, \"metric\": null, \"status\": \"Canceled\", \"run_type\": \"azureml.scriptrun\", \"training_percent\": \"100\", \"start_time\": \"2022-11-30T18:09:05.288236Z\", \"end_time\": \"2022-11-30T18:09:05.454716Z\", \"created_time\": \"2022-11-30T18:08:30.720954Z\", \"created_time_dt\": \"2022-11-30T18:08:30.720954Z\", \"duration\": \"0:00:34\", \"iteration\": \"50\", \"goal\": null, \"run_name\": \"Canceled\", \"run_properties\": null}, {\"run_id\": \"AutoML_f7741924-507a-4922-89f4-f28de06f64ee_52\", \"run_number\": 1669831745, \"metric\": null, \"status\": \"Completed\", \"run_type\": \"azureml.scriptrun\", \"training_percent\": \"100\", \"start_time\": \"2022-11-30T18:12:00.164491Z\", \"end_time\": \"2022-11-30T18:17:46.682951Z\", \"created_time\": \"2022-11-30T18:09:05.965482Z\", \"created_time_dt\": \"2022-11-30T18:09:05.965482Z\", \"duration\": \"0:08:40\", \"iteration\": \"52\", \"goal\": \"accuracy_max\", \"run_name\": \"StackEnsemble\", \"run_properties\": \"base_learners=[('32', Pipeline(memory=None, steps=[('standardscalerwrapper', StandardScalerWrapper(copy=True, with_mean=False, with_std=False\", \"primary_metric\": 0.9138088, \"best_metric\": 0.9138088}], \"children_metrics\": {\"categories\": [0], \"series\": {\"balanced_accuracy\": [{\"categories\": [\"0\", \"1\", \"6\", \"13\", \"20\", \"23\", \"25\", \"26\", \"27\", \"28\", \"29\", \"30\", \"31\", \"32\", \"33\", \"34\", \"35\", \"36\", \"37\", \"38\", \"39\", \"40\", \"41\", \"42\", \"43\", \"44\", \"46\", \"47\", \"52\"], \"mode\": \"markers\", \"name\": \"balanced_accuracy\", \"stepped\": false, \"type\": \"scatter\", \"data\": [0.7445642005975768, 0.7477868729473351, 0.6863829010812322, 0.8402501079009423, 0.864950624899277, 0.6685607218341494, 0.5, 0.5, 0.7259237339468405, 0.7215410106937706, 0.7136058920397816, 0.6010772496651829, 0.7411947273949842, 0.7489830451961389, 0.7567472821002987, 0.7496184104014656, 0.5, 0.7266193013946545, 0.594290141466008, 0.5, 0.5832911917635922, 0.5, 0.6855164518835892, 0.5103274631515966, 0.5, 0.5858303371140341, 0.5052491724507129, 0.5, 0.7537195723973644]}, {\"categories\": [\"0\", \"1\", \"6\", \"13\", \"20\", \"23\", \"25\", \"26\", \"27\", \"28\", \"29\", \"30\", \"31\", \"32\", \"33\", \"34\", \"35\", \"36\", \"37\", \"38\", \"39\", \"40\", \"41\", \"42\", \"43\", \"44\", \"46\", \"47\", \"52\"], \"mode\": \"lines\", \"name\": \"balanced_accuracy_max\", \"stepped\": true, \"type\": \"scatter\", \"data\": [0.7445642005975768, 0.7477868729473351, 0.7477868729473351, 0.8402501079009423, 0.864950624899277, 0.864950624899277, 0.864950624899277, 0.864950624899277, 0.864950624899277, 0.864950624899277, 0.864950624899277, 0.864950624899277, 0.864950624899277, 0.864950624899277, 0.864950624899277, 0.864950624899277, 0.864950624899277, 0.864950624899277, 0.864950624899277, 0.864950624899277, 0.864950624899277, 0.864950624899277, 0.864950624899277, 0.864950624899277, 0.864950624899277, 0.864950624899277, 0.864950624899277, 0.864950624899277, 0.864950624899277]}], \"log_loss\": [{\"categories\": [\"0\", \"1\", \"6\", \"13\", \"20\", \"23\", \"25\", \"26\", \"27\", \"28\", \"29\", \"30\", \"31\", \"32\", \"33\", \"34\", \"35\", \"36\", \"37\", \"38\", \"39\", \"40\", \"41\", \"42\", \"43\", \"44\", \"46\", \"47\", \"52\"], \"mode\": \"markers\", \"name\": \"log_loss\", \"stepped\": false, \"type\": \"scatter\", \"data\": [0.17851374134751752, 0.18692041766923378, 0.21382270170543066, 0.7461069620217942, 0.3908673846701973, 0.22542887440694687, 0.2846141768127785, 0.2664763638767556, 0.20170309489775562, 0.2044123510591836, 0.19513473250298122, 0.26299066267931187, 0.3644791769292967, 0.17858863583113993, 0.19904953045800053, 0.22334013846015466, 0.41007394159629185, 0.20049133985452589, 0.26401260266623144, 0.26927823683241975, 0.22408257896083542, 0.3506518719681613, 0.4158966101516808, 0.25643297583307634, 0.2545941879943411, 0.22693980187248852, 0.25154452957670576, 0.27563174468807256, 0.18839629825147092]}, {\"categories\": [\"0\", \"1\", \"6\", \"13\", \"20\", \"23\", \"25\", \"26\", \"27\", \"28\", \"29\", \"30\", \"31\", \"32\", \"33\", \"34\", \"35\", \"36\", \"37\", \"38\", \"39\", \"40\", \"41\", \"42\", \"43\", \"44\", \"46\", \"47\", \"52\"], \"mode\": \"lines\", \"name\": \"log_loss_min\", \"stepped\": true, \"type\": \"scatter\", \"data\": [0.17851374134751752, 0.17851374134751752, 0.17851374134751752, 0.17851374134751752, 0.17851374134751752, 0.17851374134751752, 0.17851374134751752, 0.17851374134751752, 0.17851374134751752, 0.17851374134751752, 0.17851374134751752, 0.17851374134751752, 0.17851374134751752, 0.17851374134751752, 0.17851374134751752, 0.17851374134751752, 0.17851374134751752, 0.17851374134751752, 0.17851374134751752, 0.17851374134751752, 0.17851374134751752, 0.17851374134751752, 0.17851374134751752, 0.17851374134751752, 0.17851374134751752, 0.17851374134751752, 0.17851374134751752, 0.17851374134751752, 0.17851374134751752]}], \"precision_score_micro\": [{\"categories\": [\"0\", \"1\", \"6\", \"13\", \"20\", \"23\", \"25\", \"26\", \"27\", \"28\", \"29\", \"30\", \"31\", \"32\", \"33\", \"34\", \"35\", \"36\", \"37\", \"38\", \"39\", \"40\", \"41\", \"42\", \"43\", \"44\", \"46\", \"47\", \"52\"], \"mode\": \"markers\", \"name\": \"precision_score_micro\", \"stepped\": false, \"type\": \"scatter\", \"data\": [0.9101669195751139, 0.9116843702579667, 0.9119878603945372, 0.8698027314112291, 0.8106221547799697, 0.9013657056145675, 0.8880121396054628, 0.8880121396054628, 0.9044006069802731, 0.9071320182094081, 0.9098634294385433, 0.9034901365705614, 0.9125948406676783, 0.9138088012139606, 0.910773899848255, 0.906525037936267, 0.8880121396054628, 0.9077389984825494, 0.8998482549317147, 0.8880121396054628, 0.8992412746585736, 0.8880121396054628, 0.9083459787556905, 0.8895295902883156, 0.8880121396054628, 0.8995447647951441, 0.8889226100151745, 0.8880121396054628, 0.9138088012139606]}, {\"categories\": [\"0\", \"1\", \"6\", \"13\", \"20\", \"23\", \"25\", \"26\", \"27\", \"28\", \"29\", \"30\", \"31\", \"32\", \"33\", \"34\", \"35\", \"36\", \"37\", \"38\", \"39\", \"40\", \"41\", \"42\", \"43\", \"44\", \"46\", \"47\", \"52\"], \"mode\": \"lines\", \"name\": \"precision_score_micro_max\", \"stepped\": true, \"type\": \"scatter\", \"data\": [0.9101669195751139, 0.9116843702579667, 0.9119878603945372, 0.9119878603945372, 0.9119878603945372, 0.9119878603945372, 0.9119878603945372, 0.9119878603945372, 0.9119878603945372, 0.9119878603945372, 0.9119878603945372, 0.9119878603945372, 0.9125948406676783, 0.9138088012139606, 0.9138088012139606, 0.9138088012139606, 0.9138088012139606, 0.9138088012139606, 0.9138088012139606, 0.9138088012139606, 0.9138088012139606, 0.9138088012139606, 0.9138088012139606, 0.9138088012139606, 0.9138088012139606, 0.9138088012139606, 0.9138088012139606, 0.9138088012139606, 0.9138088012139606]}], \"f1_score_weighted\": [{\"categories\": [\"0\", \"1\", \"6\", \"13\", \"20\", \"23\", \"25\", \"26\", \"27\", \"28\", \"29\", \"30\", \"31\", \"32\", \"33\", \"34\", \"35\", \"36\", \"37\", \"38\", \"39\", \"40\", \"41\", \"42\", \"43\", \"44\", \"46\", \"47\", \"52\"], \"mode\": \"markers\", \"name\": \"f1_score_weighted\", \"stepped\": false, \"type\": \"scatter\", \"data\": [0.9072831557855964, 0.9087877883554606, 0.9013350533065821, 0.8845386023488959, 0.8417920955928212, 0.8908782438322376, 0.8353395018439429, 0.8353395018439429, 0.9008608416452933, 0.9023965352894565, 0.9034822337088891, 0.878696918763946, 0.9087900123862012, 0.91055593490564, 0.9089944056551938, 0.90502506481657, 0.8353395018439429, 0.9034502417586506, 0.8747405235455831, 0.8353395018439429, 0.8714135569458731, 0.8353395018439429, 0.898513121045057, 0.8406764648273347, 0.8353395018439429, 0.8722950091956113, 0.838121172790458, 0.8353395018439429, 0.9110419467672612]}, {\"categories\": [\"0\", \"1\", \"6\", \"13\", \"20\", \"23\", \"25\", \"26\", \"27\", \"28\", \"29\", \"30\", \"31\", \"32\", \"33\", \"34\", \"35\", \"36\", \"37\", \"38\", \"39\", \"40\", \"41\", \"42\", \"43\", \"44\", \"46\", \"47\", \"52\"], \"mode\": \"lines\", \"name\": \"f1_score_weighted_max\", \"stepped\": true, \"type\": \"scatter\", \"data\": [0.9072831557855964, 0.9087877883554606, 0.9087877883554606, 0.9087877883554606, 0.9087877883554606, 0.9087877883554606, 0.9087877883554606, 0.9087877883554606, 0.9087877883554606, 0.9087877883554606, 0.9087877883554606, 0.9087877883554606, 0.9087900123862012, 0.91055593490564, 0.91055593490564, 0.91055593490564, 0.91055593490564, 0.91055593490564, 0.91055593490564, 0.91055593490564, 0.91055593490564, 0.91055593490564, 0.91055593490564, 0.91055593490564, 0.91055593490564, 0.91055593490564, 0.91055593490564, 0.91055593490564, 0.9110419467672612]}], \"AUC_weighted\": [{\"categories\": [\"0\", \"1\", \"6\", \"13\", \"20\", \"23\", \"25\", \"26\", \"27\", \"28\", \"29\", \"30\", \"31\", \"32\", \"33\", \"34\", \"35\", \"36\", \"37\", \"38\", \"39\", \"40\", \"41\", \"42\", \"43\", \"44\", \"46\", \"47\", \"52\"], \"mode\": \"markers\", \"name\": \"AUC_weighted\", \"stepped\": false, \"type\": \"scatter\", \"data\": [0.9446537630106308, 0.942328104073932, 0.9290011799639528, 0.9215675922992997, 0.9253788573429137, 0.9223780071020122, 0.8438617793560028, 0.8925959577435829, 0.9284412991088216, 0.9278258469529329, 0.9350510422397457, 0.8953170991040054, 0.9365588768669642, 0.9451798379911346, 0.94137320388925, 0.9371423755249173, 0.5, 0.9297078616719182, 0.9123960122034575, 0.9277309126474725, 0.917271467656577, 0.5, 0.9331009526773327, 0.9050050292027187, 0.8910422767932396, 0.9191368109853347, 0.8950364640351804, 0.9179883374363477, 0.9405174058575856]}, {\"categories\": [\"0\", \"1\", \"6\", \"13\", \"20\", \"23\", \"25\", \"26\", \"27\", \"28\", \"29\", \"30\", \"31\", \"32\", \"33\", \"34\", \"35\", \"36\", \"37\", \"38\", \"39\", \"40\", \"41\", \"42\", \"43\", \"44\", \"46\", \"47\", \"52\"], \"mode\": \"lines\", \"name\": \"AUC_weighted_max\", \"stepped\": true, \"type\": \"scatter\", \"data\": [0.9446537630106308, 0.9446537630106308, 0.9446537630106308, 0.9446537630106308, 0.9446537630106308, 0.9446537630106308, 0.9446537630106308, 0.9446537630106308, 0.9446537630106308, 0.9446537630106308, 0.9446537630106308, 0.9446537630106308, 0.9446537630106308, 0.9451798379911346, 0.9451798379911346, 0.9451798379911346, 0.9451798379911346, 0.9451798379911346, 0.9451798379911346, 0.9451798379911346, 0.9451798379911346, 0.9451798379911346, 0.9451798379911346, 0.9451798379911346, 0.9451798379911346, 0.9451798379911346, 0.9451798379911346, 0.9451798379911346, 0.9451798379911346]}], \"average_precision_score_weighted\": [{\"categories\": [\"0\", \"1\", \"6\", \"13\", \"20\", \"23\", \"25\", \"26\", \"27\", \"28\", \"29\", \"30\", \"31\", \"32\", \"33\", \"34\", \"35\", \"36\", \"37\", \"38\", \"39\", \"40\", \"41\", \"42\", \"43\", \"44\", \"46\", \"47\", \"52\"], \"mode\": \"markers\", \"name\": \"average_precision_score_weighted\", \"stepped\": false, \"type\": \"scatter\", \"data\": [0.9535822261506017, 0.950146970738567, 0.9480633299225389, 0.936541843041295, 0.9435649884940847, 0.9390129958755766, 0.9090462323452742, 0.9208426564615505, 0.9452871791187905, 0.9446589375155526, 0.9482585516727827, 0.9291728278062784, 0.9508057666929849, 0.9538772594503572, 0.9515406909483279, 0.9485678392521896, 0.8011068409624182, 0.945829489436978, 0.9371764787186126, 0.9455010770730407, 0.9391407444924081, 0.8011068409624182, 0.9495557378994347, 0.9339591567277363, 0.9261536655808726, 0.9396406710436302, 0.9311110806486594, 0.9393802649740903, 0.9511505021080097]}, {\"categories\": [\"0\", \"1\", \"6\", \"13\", \"20\", \"23\", \"25\", \"26\", \"27\", \"28\", \"29\", \"30\", \"31\", \"32\", \"33\", \"34\", \"35\", \"36\", \"37\", \"38\", \"39\", \"40\", \"41\", \"42\", \"43\", \"44\", \"46\", \"47\", \"52\"], \"mode\": \"lines\", \"name\": \"average_precision_score_weighted_max\", \"stepped\": true, \"type\": \"scatter\", \"data\": [0.9535822261506017, 0.9535822261506017, 0.9535822261506017, 0.9535822261506017, 0.9535822261506017, 0.9535822261506017, 0.9535822261506017, 0.9535822261506017, 0.9535822261506017, 0.9535822261506017, 0.9535822261506017, 0.9535822261506017, 0.9535822261506017, 0.9538772594503572, 0.9538772594503572, 0.9538772594503572, 0.9538772594503572, 0.9538772594503572, 0.9538772594503572, 0.9538772594503572, 0.9538772594503572, 0.9538772594503572, 0.9538772594503572, 0.9538772594503572, 0.9538772594503572, 0.9538772594503572, 0.9538772594503572, 0.9538772594503572, 0.9538772594503572]}], \"norm_macro_recall\": [{\"categories\": [\"0\", \"1\", \"6\", \"13\", \"20\", \"23\", \"25\", \"26\", \"27\", \"28\", \"29\", \"30\", \"31\", \"32\", \"33\", \"34\", \"35\", \"36\", \"37\", \"38\", \"39\", \"40\", \"41\", \"42\", \"43\", \"44\", \"46\", \"47\", \"52\"], \"mode\": \"markers\", \"name\": \"norm_macro_recall\", \"stepped\": false, \"type\": \"scatter\", \"data\": [0.48912840119515355, 0.4955737458946703, 0.37276580216246447, 0.6805002158018847, 0.729901249798554, 0.33712144366829877, 0.0, 0.0, 0.451847467893681, 0.44308202138754127, 0.4272117840795633, 0.2021544993303659, 0.4823894547899683, 0.4979660903922778, 0.5134945642005975, 0.4992368208029312, 0.0, 0.45323860278930894, 0.188580282932016, 0.0, 0.16658238352718446, 0.0, 0.37103290376717846, 0.02065492630319321, 0.0, 0.1716606742280682, 0.01049834490142576, 0.0, 0.5074391447947288]}, {\"categories\": [\"0\", \"1\", \"6\", \"13\", \"20\", \"23\", \"25\", \"26\", \"27\", \"28\", \"29\", \"30\", \"31\", \"32\", \"33\", \"34\", \"35\", \"36\", \"37\", \"38\", \"39\", \"40\", \"41\", \"42\", \"43\", \"44\", \"46\", \"47\", \"52\"], \"mode\": \"lines\", \"name\": \"norm_macro_recall_max\", \"stepped\": true, \"type\": \"scatter\", \"data\": [0.48912840119515355, 0.4955737458946703, 0.4955737458946703, 0.6805002158018847, 0.729901249798554, 0.729901249798554, 0.729901249798554, 0.729901249798554, 0.729901249798554, 0.729901249798554, 0.729901249798554, 0.729901249798554, 0.729901249798554, 0.729901249798554, 0.729901249798554, 0.729901249798554, 0.729901249798554, 0.729901249798554, 0.729901249798554, 0.729901249798554, 0.729901249798554, 0.729901249798554, 0.729901249798554, 0.729901249798554, 0.729901249798554, 0.729901249798554, 0.729901249798554, 0.729901249798554, 0.729901249798554]}], \"recall_score_micro\": [{\"categories\": [\"0\", \"1\", \"6\", \"13\", \"20\", \"23\", \"25\", \"26\", \"27\", \"28\", \"29\", \"30\", \"31\", \"32\", \"33\", \"34\", \"35\", \"36\", \"37\", \"38\", \"39\", \"40\", \"41\", \"42\", \"43\", \"44\", \"46\", \"47\", \"52\"], \"mode\": \"markers\", \"name\": \"recall_score_micro\", \"stepped\": false, \"type\": \"scatter\", \"data\": [0.9101669195751139, 0.9116843702579667, 0.9119878603945372, 0.8698027314112291, 0.8106221547799697, 0.9013657056145675, 0.8880121396054628, 0.8880121396054628, 0.9044006069802731, 0.9071320182094081, 0.9098634294385433, 0.9034901365705614, 0.9125948406676783, 0.9138088012139606, 0.910773899848255, 0.906525037936267, 0.8880121396054628, 0.9077389984825494, 0.8998482549317147, 0.8880121396054628, 0.8992412746585736, 0.8880121396054628, 0.9083459787556905, 0.8895295902883156, 0.8880121396054628, 0.8995447647951441, 0.8889226100151745, 0.8880121396054628, 0.9138088012139606]}, {\"categories\": [\"0\", \"1\", \"6\", \"13\", \"20\", \"23\", \"25\", \"26\", \"27\", \"28\", \"29\", \"30\", \"31\", \"32\", \"33\", \"34\", \"35\", \"36\", \"37\", \"38\", \"39\", \"40\", \"41\", \"42\", \"43\", \"44\", \"46\", \"47\", \"52\"], \"mode\": \"lines\", \"name\": \"recall_score_micro_max\", \"stepped\": true, \"type\": \"scatter\", \"data\": [0.9101669195751139, 0.9116843702579667, 0.9119878603945372, 0.9119878603945372, 0.9119878603945372, 0.9119878603945372, 0.9119878603945372, 0.9119878603945372, 0.9119878603945372, 0.9119878603945372, 0.9119878603945372, 0.9119878603945372, 0.9125948406676783, 0.9138088012139606, 0.9138088012139606, 0.9138088012139606, 0.9138088012139606, 0.9138088012139606, 0.9138088012139606, 0.9138088012139606, 0.9138088012139606, 0.9138088012139606, 0.9138088012139606, 0.9138088012139606, 0.9138088012139606, 0.9138088012139606, 0.9138088012139606, 0.9138088012139606, 0.9138088012139606]}], \"average_precision_score_macro\": [{\"categories\": [\"0\", \"1\", \"6\", \"13\", \"20\", \"23\", \"25\", \"26\", \"27\", \"28\", \"29\", \"30\", \"31\", \"32\", \"33\", \"34\", \"35\", \"36\", \"37\", \"38\", \"39\", \"40\", \"41\", \"42\", \"43\", \"44\", \"46\", \"47\", \"52\"], \"mode\": \"markers\", \"name\": \"average_precision_score_macro\", \"stepped\": false, \"type\": \"scatter\", \"data\": [0.8171134643523112, 0.8028233128807174, 0.8044713126721892, 0.752733298256565, 0.7817931587449, 0.7635870197223787, 0.674972932402373, 0.7078863068137133, 0.7880349428120222, 0.7854354390110603, 0.797914852751072, 0.7543267939416152, 0.8090214695165061, 0.8182489485072661, 0.809843791008255, 0.7984348861011888, 0.5, 0.7898393662580705, 0.764679132916001, 0.7896994450741299, 0.7667688156225587, 0.5, 0.805055842884977, 0.7503913223565681, 0.7208954093540365, 0.7681280401219079, 0.7411817785737352, 0.7672119608488439, 0.8085828257558816]}, {\"categories\": [\"0\", \"1\", \"6\", \"13\", \"20\", \"23\", \"25\", \"26\", \"27\", \"28\", \"29\", \"30\", \"31\", \"32\", \"33\", \"34\", \"35\", \"36\", \"37\", \"38\", \"39\", \"40\", \"41\", \"42\", \"43\", \"44\", \"46\", \"47\", \"52\"], \"mode\": \"lines\", \"name\": \"average_precision_score_macro_max\", \"stepped\": true, \"type\": \"scatter\", \"data\": [0.8171134643523112, 0.8171134643523112, 0.8171134643523112, 0.8171134643523112, 0.8171134643523112, 0.8171134643523112, 0.8171134643523112, 0.8171134643523112, 0.8171134643523112, 0.8171134643523112, 0.8171134643523112, 0.8171134643523112, 0.8171134643523112, 0.8182489485072661, 0.8182489485072661, 0.8182489485072661, 0.8182489485072661, 0.8182489485072661, 0.8182489485072661, 0.8182489485072661, 0.8182489485072661, 0.8182489485072661, 0.8182489485072661, 0.8182489485072661, 0.8182489485072661, 0.8182489485072661, 0.8182489485072661, 0.8182489485072661, 0.8182489485072661]}], \"f1_score_macro\": [{\"categories\": [\"0\", \"1\", \"6\", \"13\", \"20\", \"23\", \"25\", \"26\", \"27\", \"28\", \"29\", \"30\", \"31\", \"32\", \"33\", \"34\", \"35\", \"36\", \"37\", \"38\", \"39\", \"40\", \"41\", \"42\", \"43\", \"44\", \"46\", \"47\", \"52\"], \"mode\": \"markers\", \"name\": \"f1_score_macro\", \"stepped\": false, \"type\": \"scatter\", \"data\": [0.7598074755896701, 0.763561123165114, 0.7267246191790099, 0.7513950617566214, 0.7034213687552144, 0.7006907276803395, 0.4703423886834914, 0.4703423886834914, 0.7420682107410259, 0.7430724586273958, 0.741930575483886, 0.6385595781142634, 0.7613817409356443, 0.7671493978301981, 0.7668016977909075, 0.7575084776217547, 0.4703423886834914, 0.7467880854299506, 0.6278156421827422, 0.4703423886834914, 0.6136038678466876, 0.4703423886834914, 0.7214524367768216, 0.4917450631409441, 0.4703423886834914, 0.6170656133421111, 0.48125503272562103, 0.4703423886834914, 0.7695450103630617]}, {\"categories\": [\"0\", \"1\", \"6\", \"13\", \"20\", \"23\", \"25\", \"26\", \"27\", \"28\", \"29\", \"30\", \"31\", \"32\", \"33\", \"34\", \"35\", \"36\", \"37\", \"38\", \"39\", \"40\", \"41\", \"42\", \"43\", \"44\", \"46\", \"47\", \"52\"], \"mode\": \"lines\", \"name\": \"f1_score_macro_max\", \"stepped\": true, \"type\": \"scatter\", \"data\": [0.7598074755896701, 0.763561123165114, 0.763561123165114, 0.763561123165114, 0.763561123165114, 0.763561123165114, 0.763561123165114, 0.763561123165114, 0.763561123165114, 0.763561123165114, 0.763561123165114, 0.763561123165114, 0.763561123165114, 0.7671493978301981, 0.7671493978301981, 0.7671493978301981, 0.7671493978301981, 0.7671493978301981, 0.7671493978301981, 0.7671493978301981, 0.7671493978301981, 0.7671493978301981, 0.7671493978301981, 0.7671493978301981, 0.7671493978301981, 0.7671493978301981, 0.7671493978301981, 0.7671493978301981, 0.7695450103630617]}], \"AUC_micro\": [{\"categories\": [\"0\", \"1\", \"6\", \"13\", \"20\", \"23\", \"25\", \"26\", \"27\", \"28\", \"29\", \"30\", \"31\", \"32\", \"33\", \"34\", \"35\", \"36\", \"37\", \"38\", \"39\", \"40\", \"41\", \"42\", \"43\", \"44\", \"46\", \"47\", \"52\"], \"mode\": \"markers\", \"name\": \"AUC_micro\", \"stepped\": false, \"type\": \"scatter\", \"data\": [0.9795361989126856, 0.9783641467160662, 0.9758368429657296, 0.9346357772962666, 0.9092565412716652, 0.9700388458164183, 0.956403895173862, 0.966096789866469, 0.975048781779539, 0.9750942822734588, 0.9769405523152059, 0.9677015572866416, 0.9778057064435239, 0.9797683066954346, 0.9782222109647899, 0.9764259546238495, 0.8880121396054628, 0.9754459439855762, 0.9709398292810414, 0.9730848920399464, 0.9720274200344937, 0.8880121396054628, 0.9768278142492992, 0.96857380359721, 0.9657877733541186, 0.9718287468252123, 0.9665835714664007, 0.9711471604790447, 0.9785978203052862]}, {\"categories\": [\"0\", \"1\", \"6\", \"13\", \"20\", \"23\", \"25\", \"26\", \"27\", \"28\", \"29\", \"30\", \"31\", \"32\", \"33\", \"34\", \"35\", \"36\", \"37\", \"38\", \"39\", \"40\", \"41\", \"42\", \"43\", \"44\", \"46\", \"47\", \"52\"], \"mode\": \"lines\", \"name\": \"AUC_micro_max\", \"stepped\": true, \"type\": \"scatter\", \"data\": [0.9795361989126856, 0.9795361989126856, 0.9795361989126856, 0.9795361989126856, 0.9795361989126856, 0.9795361989126856, 0.9795361989126856, 0.9795361989126856, 0.9795361989126856, 0.9795361989126856, 0.9795361989126856, 0.9795361989126856, 0.9795361989126856, 0.9797683066954346, 0.9797683066954346, 0.9797683066954346, 0.9797683066954346, 0.9797683066954346, 0.9797683066954346, 0.9797683066954346, 0.9797683066954346, 0.9797683066954346, 0.9797683066954346, 0.9797683066954346, 0.9797683066954346, 0.9797683066954346, 0.9797683066954346, 0.9797683066954346, 0.9797683066954346]}], \"average_precision_score_micro\": [{\"categories\": [\"0\", \"1\", \"6\", \"13\", \"20\", \"23\", \"25\", \"26\", \"27\", \"28\", \"29\", \"30\", \"31\", \"32\", \"33\", \"34\", \"35\", \"36\", \"37\", \"38\", \"39\", \"40\", \"41\", \"42\", \"43\", \"44\", \"46\", \"47\", \"52\"], \"mode\": \"markers\", \"name\": \"average_precision_score_micro\", \"stepped\": false, \"type\": \"scatter\", \"data\": [0.9805151927136844, 0.9793987356897454, 0.9760584861374465, 0.9259196821034417, 0.914286700651369, 0.9679419466698458, 0.9569411673455998, 0.9635420371109187, 0.9762291126004086, 0.9762769365127013, 0.9780508527052588, 0.9631050776090558, 0.9787957464510478, 0.980719298438962, 0.9792150598645599, 0.9775420729416207, 0.8445594902839405, 0.9766057850777033, 0.9706153876259557, 0.9743691607609746, 0.9731780021229183, 0.8445594902839405, 0.9778665395257667, 0.9697815013786943, 0.9673929600068062, 0.9729852539583316, 0.9681301505182639, 0.9724733756186197, 0.9795578597279071]}, {\"categories\": [\"0\", \"1\", \"6\", \"13\", \"20\", \"23\", \"25\", \"26\", \"27\", \"28\", \"29\", \"30\", \"31\", \"32\", \"33\", \"34\", \"35\", \"36\", \"37\", \"38\", \"39\", \"40\", \"41\", \"42\", \"43\", \"44\", \"46\", \"47\", \"52\"], \"mode\": \"lines\", \"name\": \"average_precision_score_micro_max\", \"stepped\": true, \"type\": \"scatter\", \"data\": [0.9805151927136844, 0.9805151927136844, 0.9805151927136844, 0.9805151927136844, 0.9805151927136844, 0.9805151927136844, 0.9805151927136844, 0.9805151927136844, 0.9805151927136844, 0.9805151927136844, 0.9805151927136844, 0.9805151927136844, 0.9805151927136844, 0.980719298438962, 0.980719298438962, 0.980719298438962, 0.980719298438962, 0.980719298438962, 0.980719298438962, 0.980719298438962, 0.980719298438962, 0.980719298438962, 0.980719298438962, 0.980719298438962, 0.980719298438962, 0.980719298438962, 0.980719298438962, 0.980719298438962, 0.980719298438962]}], \"precision_score_macro\": [{\"categories\": [\"0\", \"1\", \"6\", \"13\", \"20\", \"23\", \"25\", \"26\", \"27\", \"28\", \"29\", \"30\", \"31\", \"32\", \"33\", \"34\", \"35\", \"36\", \"37\", \"38\", \"39\", \"40\", \"41\", \"42\", \"43\", \"44\", \"46\", \"47\", \"52\"], \"mode\": \"markers\", \"name\": \"precision_score_macro\", \"stepped\": false, \"type\": \"scatter\", \"data\": [0.7781441711329087, 0.7826005666081467, 0.8065451980757572, 0.7131838007098273, 0.6774332995609591, 0.7602606124048301, 0.4440060698027314, 0.4440060698027314, 0.7620925629851208, 0.7719421409617706, 0.7842933499006455, 0.8258172861621138, 0.7872528061629692, 0.7896751592631225, 0.7780855819253927, 0.7661747335403384, 0.4440060698027314, 0.7731395483833517, 0.7931532449881074, 0.4440060698027314, 0.8019920345482998, 0.4440060698027314, 0.7876086244823646, 0.8086729044402614, 0.4440060698027314, 0.8017560826299885, 0.8445288753799393, 0.4440060698027314, 0.7885566243637712]}, {\"categories\": [\"0\", \"1\", \"6\", \"13\", \"20\", \"23\", \"25\", \"26\", \"27\", \"28\", \"29\", \"30\", \"31\", \"32\", \"33\", \"34\", \"35\", \"36\", \"37\", \"38\", \"39\", \"40\", \"41\", \"42\", \"43\", \"44\", \"46\", \"47\", \"52\"], \"mode\": \"lines\", \"name\": \"precision_score_macro_max\", \"stepped\": true, \"type\": \"scatter\", \"data\": [0.7781441711329087, 0.7826005666081467, 0.8065451980757572, 0.8065451980757572, 0.8065451980757572, 0.8065451980757572, 0.8065451980757572, 0.8065451980757572, 0.8065451980757572, 0.8065451980757572, 0.8065451980757572, 0.8258172861621138, 0.8258172861621138, 0.8258172861621138, 0.8258172861621138, 0.8258172861621138, 0.8258172861621138, 0.8258172861621138, 0.8258172861621138, 0.8258172861621138, 0.8258172861621138, 0.8258172861621138, 0.8258172861621138, 0.8258172861621138, 0.8258172861621138, 0.8258172861621138, 0.8445288753799393, 0.8445288753799393, 0.8445288753799393]}], \"AUC_macro\": [{\"categories\": [\"0\", \"1\", \"6\", \"13\", \"20\", \"23\", \"25\", \"26\", \"27\", \"28\", \"29\", \"30\", \"31\", \"32\", \"33\", \"34\", \"35\", \"36\", \"37\", \"38\", \"39\", \"40\", \"41\", \"42\", \"43\", \"44\", \"46\", \"47\", \"52\"], \"mode\": \"markers\", \"name\": \"AUC_macro\", \"stepped\": false, \"type\": \"scatter\", \"data\": [0.9446537630106308, 0.942328104073932, 0.9290011799639528, 0.9215675922992996, 0.9253788573429138, 0.9223780071020122, 0.8438617793560027, 0.8925959577435829, 0.9284412991088216, 0.9278258469529329, 0.9350510422397457, 0.8953170991040054, 0.9365588768669642, 0.9451798379911345, 0.9413732038892502, 0.9371423755249173, 0.5, 0.9297078616719181, 0.9123960122034576, 0.9277309126474724, 0.9172714676565767, 0.5, 0.9331009526773326, 0.9050050292027185, 0.8910422767932396, 0.9191368109853348, 0.8950364640351804, 0.9179883374363478, 0.9405174058575856]}, {\"categories\": [\"0\", \"1\", \"6\", \"13\", \"20\", \"23\", \"25\", \"26\", \"27\", \"28\", \"29\", \"30\", \"31\", \"32\", \"33\", \"34\", \"35\", \"36\", \"37\", \"38\", \"39\", \"40\", \"41\", \"42\", \"43\", \"44\", \"46\", \"47\", \"52\"], \"mode\": \"lines\", \"name\": \"AUC_macro_max\", \"stepped\": true, \"type\": \"scatter\", \"data\": [0.9446537630106308, 0.9446537630106308, 0.9446537630106308, 0.9446537630106308, 0.9446537630106308, 0.9446537630106308, 0.9446537630106308, 0.9446537630106308, 0.9446537630106308, 0.9446537630106308, 0.9446537630106308, 0.9446537630106308, 0.9446537630106308, 0.9451798379911345, 0.9451798379911345, 0.9451798379911345, 0.9451798379911345, 0.9451798379911345, 0.9451798379911345, 0.9451798379911345, 0.9451798379911345, 0.9451798379911345, 0.9451798379911345, 0.9451798379911345, 0.9451798379911345, 0.9451798379911345, 0.9451798379911345, 0.9451798379911345, 0.9451798379911345]}], \"accuracy\": [{\"categories\": [\"0\", \"1\", \"6\", \"13\", \"20\", \"23\", \"25\", \"26\", \"27\", \"28\", \"29\", \"30\", \"31\", \"32\", \"33\", \"34\", \"35\", \"36\", \"37\", \"38\", \"39\", \"40\", \"41\", \"42\", \"43\", \"44\", \"46\", \"47\", \"52\"], \"mode\": \"markers\", \"name\": \"accuracy\", \"stepped\": false, \"type\": \"scatter\", \"data\": [0.9101669195751139, 0.9116843702579667, 0.9119878603945372, 0.8698027314112291, 0.8106221547799697, 0.9013657056145675, 0.8880121396054628, 0.8880121396054628, 0.9044006069802731, 0.9071320182094081, 0.9098634294385433, 0.9034901365705614, 0.9125948406676783, 0.9138088012139606, 0.910773899848255, 0.906525037936267, 0.8880121396054628, 0.9077389984825494, 0.8998482549317147, 0.8880121396054628, 0.8992412746585736, 0.8880121396054628, 0.9083459787556905, 0.8895295902883156, 0.8880121396054628, 0.8995447647951441, 0.8889226100151745, 0.8880121396054628, 0.9138088012139606]}, {\"categories\": [\"0\", \"1\", \"6\", \"13\", \"20\", \"23\", \"25\", \"26\", \"27\", \"28\", \"29\", \"30\", \"31\", \"32\", \"33\", \"34\", \"35\", \"36\", \"37\", \"38\", \"39\", \"40\", \"41\", \"42\", \"43\", \"44\", \"46\", \"47\", \"52\"], \"mode\": \"lines\", \"name\": \"accuracy_max\", \"stepped\": true, \"type\": \"scatter\", \"data\": [0.9101669195751139, 0.9116843702579667, 0.9119878603945372, 0.9119878603945372, 0.9119878603945372, 0.9119878603945372, 0.9119878603945372, 0.9119878603945372, 0.9119878603945372, 0.9119878603945372, 0.9119878603945372, 0.9119878603945372, 0.9125948406676783, 0.9138088012139606, 0.9138088012139606, 0.9138088012139606, 0.9138088012139606, 0.9138088012139606, 0.9138088012139606, 0.9138088012139606, 0.9138088012139606, 0.9138088012139606, 0.9138088012139606, 0.9138088012139606, 0.9138088012139606, 0.9138088012139606, 0.9138088012139606, 0.9138088012139606, 0.9138088012139606]}], \"recall_score_weighted\": [{\"categories\": [\"0\", \"1\", \"6\", \"13\", \"20\", \"23\", \"25\", \"26\", \"27\", \"28\", \"29\", \"30\", \"31\", \"32\", \"33\", \"34\", \"35\", \"36\", \"37\", \"38\", \"39\", \"40\", \"41\", \"42\", \"43\", \"44\", \"46\", \"47\", \"52\"], \"mode\": \"markers\", \"name\": \"recall_score_weighted\", \"stepped\": false, \"type\": \"scatter\", \"data\": [0.9101669195751139, 0.9116843702579667, 0.9119878603945372, 0.8698027314112291, 0.8106221547799697, 0.9013657056145675, 0.8880121396054628, 0.8880121396054628, 0.9044006069802731, 0.9071320182094081, 0.9098634294385433, 0.9034901365705614, 0.9125948406676783, 0.9138088012139606, 0.910773899848255, 0.906525037936267, 0.8880121396054628, 0.9077389984825494, 0.8998482549317147, 0.8880121396054628, 0.8992412746585736, 0.8880121396054628, 0.9083459787556905, 0.8895295902883156, 0.8880121396054628, 0.8995447647951441, 0.8889226100151745, 0.8880121396054628, 0.9138088012139606]}, {\"categories\": [\"0\", \"1\", \"6\", \"13\", \"20\", \"23\", \"25\", \"26\", \"27\", \"28\", \"29\", \"30\", \"31\", \"32\", \"33\", \"34\", \"35\", \"36\", \"37\", \"38\", \"39\", \"40\", \"41\", \"42\", \"43\", \"44\", \"46\", \"47\", \"52\"], \"mode\": \"lines\", \"name\": \"recall_score_weighted_max\", \"stepped\": true, \"type\": \"scatter\", \"data\": [0.9101669195751139, 0.9116843702579667, 0.9119878603945372, 0.9119878603945372, 0.9119878603945372, 0.9119878603945372, 0.9119878603945372, 0.9119878603945372, 0.9119878603945372, 0.9119878603945372, 0.9119878603945372, 0.9119878603945372, 0.9125948406676783, 0.9138088012139606, 0.9138088012139606, 0.9138088012139606, 0.9138088012139606, 0.9138088012139606, 0.9138088012139606, 0.9138088012139606, 0.9138088012139606, 0.9138088012139606, 0.9138088012139606, 0.9138088012139606, 0.9138088012139606, 0.9138088012139606, 0.9138088012139606, 0.9138088012139606, 0.9138088012139606]}], \"weighted_accuracy\": [{\"categories\": [\"0\", \"1\", \"6\", \"13\", \"20\", \"23\", \"25\", \"26\", \"27\", \"28\", \"29\", \"30\", \"31\", \"32\", \"33\", \"34\", \"35\", \"36\", \"37\", \"38\", \"39\", \"40\", \"41\", \"42\", \"43\", \"44\", \"46\", \"47\", \"52\"], \"mode\": \"markers\", \"name\": \"weighted_accuracy\", \"stepped\": false, \"type\": \"scatter\", \"data\": [0.9512815952194833, 0.952375685487909, 0.9679994692811393, 0.8771398484438935, 0.7971338652095966, 0.9591648858189875, 0.9843450583187134, 0.9843450583187134, 0.9487115868367465, 0.9532092452237315, 0.958588867298095, 0.9785710762589886, 0.955148852498673, 0.9547305779719253, 0.9490145426855595, 0.9454807093006986, 0.9843450583187134, 0.9527061200645648, 0.9757100692981324, 0.9843450583187134, 0.9776831339362634, 0.9843450583187134, 0.9636685228413189, 0.9836752212123822, 0.9843450583187134, 0.9774315713566801, 0.9841783463715491, 0.9843450583187134, 0.9535546263887538]}, {\"categories\": [\"0\", \"1\", \"6\", \"13\", \"20\", \"23\", \"25\", \"26\", \"27\", \"28\", \"29\", \"30\", \"31\", \"32\", \"33\", \"34\", \"35\", \"36\", \"37\", \"38\", \"39\", \"40\", \"41\", \"42\", \"43\", \"44\", \"46\", \"47\", \"52\"], \"mode\": \"lines\", \"name\": \"weighted_accuracy_max\", \"stepped\": true, \"type\": \"scatter\", \"data\": [0.9512815952194833, 0.952375685487909, 0.9679994692811393, 0.9679994692811393, 0.9679994692811393, 0.9679994692811393, 0.9843450583187134, 0.9843450583187134, 0.9843450583187134, 0.9843450583187134, 0.9843450583187134, 0.9843450583187134, 0.9843450583187134, 0.9843450583187134, 0.9843450583187134, 0.9843450583187134, 0.9843450583187134, 0.9843450583187134, 0.9843450583187134, 0.9843450583187134, 0.9843450583187134, 0.9843450583187134, 0.9843450583187134, 0.9843450583187134, 0.9843450583187134, 0.9843450583187134, 0.9843450583187134, 0.9843450583187134, 0.9843450583187134]}], \"precision_score_weighted\": [{\"categories\": [\"0\", \"1\", \"6\", \"13\", \"20\", \"23\", \"25\", \"26\", \"27\", \"28\", \"29\", \"30\", \"31\", \"32\", \"33\", \"34\", \"35\", \"36\", \"37\", \"38\", \"39\", \"40\", \"41\", \"42\", \"43\", \"44\", \"46\", \"47\", \"52\"], \"mode\": \"markers\", \"name\": \"precision_score_weighted\", \"stepped\": false, \"type\": \"scatter\", \"data\": [0.9051980543721705, 0.9067326786550023, 0.9005211086889047, 0.9143262446091164, 0.9198275364257349, 0.8873496308399476, 0.788565560086672, 0.788565560086672, 0.8983268080227863, 0.8995466135059601, 0.9006698244850618, 0.8901963715735889, 0.9064419404986112, 0.9084217819598277, 0.9075338951374334, 0.9037277148896637, 0.788565560086672, 0.9007520044099177, 0.8818172490263929, 0.788565560086672, 0.881974764352729, 0.788565560086672, 0.896276493147234, 0.8718414182543387, 0.788565560086672, 0.8823379905566089, 0.8790843638007296, 0.788565560086672, 0.9090947561687897]}, {\"categories\": [\"0\", \"1\", \"6\", \"13\", \"20\", \"23\", \"25\", \"26\", \"27\", \"28\", \"29\", \"30\", \"31\", \"32\", \"33\", \"34\", \"35\", \"36\", \"37\", \"38\", \"39\", \"40\", \"41\", \"42\", \"43\", \"44\", \"46\", \"47\", \"52\"], \"mode\": \"lines\", \"name\": \"precision_score_weighted_max\", \"stepped\": true, \"type\": \"scatter\", \"data\": [0.9051980543721705, 0.9067326786550023, 0.9067326786550023, 0.9143262446091164, 0.9198275364257349, 0.9198275364257349, 0.9198275364257349, 0.9198275364257349, 0.9198275364257349, 0.9198275364257349, 0.9198275364257349, 0.9198275364257349, 0.9198275364257349, 0.9198275364257349, 0.9198275364257349, 0.9198275364257349, 0.9198275364257349, 0.9198275364257349, 0.9198275364257349, 0.9198275364257349, 0.9198275364257349, 0.9198275364257349, 0.9198275364257349, 0.9198275364257349, 0.9198275364257349, 0.9198275364257349, 0.9198275364257349, 0.9198275364257349, 0.9198275364257349]}], \"matthews_correlation\": [{\"categories\": [\"0\", \"1\", \"6\", \"13\", \"20\", \"23\", \"25\", \"26\", \"27\", \"28\", \"29\", \"30\", \"31\", \"32\", \"33\", \"34\", \"35\", \"36\", \"37\", \"38\", \"39\", \"40\", \"41\", \"42\", \"43\", \"44\", \"46\", \"47\", \"52\"], \"mode\": \"markers\", \"name\": \"matthews_correlation\", \"stepped\": false, \"type\": \"scatter\", \"data\": [0.5216286298277554, 0.52924365161229, 0.47805766735773875, 0.5386494637303624, 0.5089376918748016, 0.41890197751720354, 0.0, 0.0, 0.48667414342369153, 0.4909025840587866, 0.49285590026499687, 0.3629474627471051, 0.5264365575296669, 0.537118993412107, 0.5344070259666298, 0.5155273566955412, 0.0, 0.49758896144463083, 0.33251442640070783, 0.0, 0.3171956901386891, 0.0, 0.4619789239568743, 0.1129213539859156, 0.0, 0.3218684594572277, 0.08505272438010367, 0.0, 0.541156034230435]}, {\"categories\": [\"0\", \"1\", \"6\", \"13\", \"20\", \"23\", \"25\", \"26\", \"27\", \"28\", \"29\", \"30\", \"31\", \"32\", \"33\", \"34\", \"35\", \"36\", \"37\", \"38\", \"39\", \"40\", \"41\", \"42\", \"43\", \"44\", \"46\", \"47\", \"52\"], \"mode\": \"lines\", \"name\": \"matthews_correlation_max\", \"stepped\": true, \"type\": \"scatter\", \"data\": [0.5216286298277554, 0.52924365161229, 0.52924365161229, 0.5386494637303624, 0.5386494637303624, 0.5386494637303624, 0.5386494637303624, 0.5386494637303624, 0.5386494637303624, 0.5386494637303624, 0.5386494637303624, 0.5386494637303624, 0.5386494637303624, 0.5386494637303624, 0.5386494637303624, 0.5386494637303624, 0.5386494637303624, 0.5386494637303624, 0.5386494637303624, 0.5386494637303624, 0.5386494637303624, 0.5386494637303624, 0.5386494637303624, 0.5386494637303624, 0.5386494637303624, 0.5386494637303624, 0.5386494637303624, 0.5386494637303624, 0.541156034230435]}], \"f1_score_micro\": [{\"categories\": [\"0\", \"1\", \"6\", \"13\", \"20\", \"23\", \"25\", \"26\", \"27\", \"28\", \"29\", \"30\", \"31\", \"32\", \"33\", \"34\", \"35\", \"36\", \"37\", \"38\", \"39\", \"40\", \"41\", \"42\", \"43\", \"44\", \"46\", \"47\", \"52\"], \"mode\": \"markers\", \"name\": \"f1_score_micro\", \"stepped\": false, \"type\": \"scatter\", \"data\": [0.9101669195751139, 0.9116843702579667, 0.9119878603945372, 0.8698027314112291, 0.8106221547799697, 0.9013657056145675, 0.8880121396054628, 0.8880121396054628, 0.9044006069802731, 0.9071320182094081, 0.9098634294385431, 0.9034901365705614, 0.9125948406676783, 0.9138088012139606, 0.9107738998482551, 0.9065250379362669, 0.8880121396054628, 0.9077389984825494, 0.8998482549317147, 0.8880121396054628, 0.8992412746585736, 0.8880121396054628, 0.9083459787556905, 0.8895295902883156, 0.8880121396054628, 0.8995447647951441, 0.8889226100151746, 0.8880121396054628, 0.9138088012139606]}, {\"categories\": [\"0\", \"1\", \"6\", \"13\", \"20\", \"23\", \"25\", \"26\", \"27\", \"28\", \"29\", \"30\", \"31\", \"32\", \"33\", \"34\", \"35\", \"36\", \"37\", \"38\", \"39\", \"40\", \"41\", \"42\", \"43\", \"44\", \"46\", \"47\", \"52\"], \"mode\": \"lines\", \"name\": \"f1_score_micro_max\", \"stepped\": true, \"type\": \"scatter\", \"data\": [0.9101669195751139, 0.9116843702579667, 0.9119878603945372, 0.9119878603945372, 0.9119878603945372, 0.9119878603945372, 0.9119878603945372, 0.9119878603945372, 0.9119878603945372, 0.9119878603945372, 0.9119878603945372, 0.9119878603945372, 0.9125948406676783, 0.9138088012139606, 0.9138088012139606, 0.9138088012139606, 0.9138088012139606, 0.9138088012139606, 0.9138088012139606, 0.9138088012139606, 0.9138088012139606, 0.9138088012139606, 0.9138088012139606, 0.9138088012139606, 0.9138088012139606, 0.9138088012139606, 0.9138088012139606, 0.9138088012139606, 0.9138088012139606]}], \"recall_score_macro\": [{\"categories\": [\"0\", \"1\", \"6\", \"13\", \"20\", \"23\", \"25\", \"26\", \"27\", \"28\", \"29\", \"30\", \"31\", \"32\", \"33\", \"34\", \"35\", \"36\", \"37\", \"38\", \"39\", \"40\", \"41\", \"42\", \"43\", \"44\", \"46\", \"47\", \"52\"], \"mode\": \"markers\", \"name\": \"recall_score_macro\", \"stepped\": false, \"type\": \"scatter\", \"data\": [0.7445642005975768, 0.7477868729473351, 0.6863829010812322, 0.8402501079009423, 0.864950624899277, 0.6685607218341494, 0.5, 0.5, 0.7259237339468405, 0.7215410106937706, 0.7136058920397816, 0.6010772496651829, 0.7411947273949842, 0.7489830451961389, 0.7567472821002987, 0.7496184104014656, 0.5, 0.7266193013946545, 0.594290141466008, 0.5, 0.5832911917635922, 0.5, 0.6855164518835892, 0.5103274631515966, 0.5, 0.5858303371140341, 0.5052491724507129, 0.5, 0.7537195723973644]}, {\"categories\": [\"0\", \"1\", \"6\", \"13\", \"20\", \"23\", \"25\", \"26\", \"27\", \"28\", \"29\", \"30\", \"31\", \"32\", \"33\", \"34\", \"35\", \"36\", \"37\", \"38\", \"39\", \"40\", \"41\", \"42\", \"43\", \"44\", \"46\", \"47\", \"52\"], \"mode\": \"lines\", \"name\": \"recall_score_macro_max\", \"stepped\": true, \"type\": \"scatter\", \"data\": [0.7445642005975768, 0.7477868729473351, 0.7477868729473351, 0.8402501079009423, 0.864950624899277, 0.864950624899277, 0.864950624899277, 0.864950624899277, 0.864950624899277, 0.864950624899277, 0.864950624899277, 0.864950624899277, 0.864950624899277, 0.864950624899277, 0.864950624899277, 0.864950624899277, 0.864950624899277, 0.864950624899277, 0.864950624899277, 0.864950624899277, 0.864950624899277, 0.864950624899277, 0.864950624899277, 0.864950624899277, 0.864950624899277, 0.864950624899277, 0.864950624899277, 0.864950624899277, 0.864950624899277]}]}, \"metricName\": null, \"primaryMetricName\": \"accuracy\", \"showLegend\": false}, \"run_metrics\": [{\"name\": \"experiment_status\", \"run_id\": \"AutoML_f7741924-507a-4922-89f4-f28de06f64ee\", \"categories\": [0, 1, 2, 3, 4, 5, 6, 7, 8, 9, 10, 11, 12, 13], \"series\": [{\"data\": [\"DatasetEvaluation\", \"FeaturesGeneration\", \"DatasetFeaturization\", \"DatasetFeaturizationCompleted\", \"DatasetBalancing\", \"ModelSelection\", \"BestRunExplainModel\", \"ModelExplanationDataSetSetup\", \"PickSurrogateModel\", \"EngineeredFeatureExplanations\", \"EngineeredFeatureExplanations\", \"RawFeaturesExplanations\", \"RawFeaturesExplanations\", \"BestRunExplainModel\"]}]}, {\"name\": \"experiment_status_description\", \"run_id\": \"AutoML_f7741924-507a-4922-89f4-f28de06f64ee\", \"categories\": [0, 1, 2, 3, 4, 5, 6, 7, 8, 9, 10, 11, 12, 13], \"series\": [{\"data\": [\"Gathering dataset statistics.\", \"Generating features for the dataset.\", \"Beginning to fit featurizers and featurize the dataset.\", \"Completed fit featurizers and featurizing the dataset.\", \"Performing class balancing sweeping\", \"Beginning model selection.\", \"Best run model explanations started\", \"Model explanations data setup completed\", \"Choosing LightGBM as the surrogate model for explanations\", \"Computation of engineered features started\", \"Computation of engineered features completed\", \"Computation of raw features started\", \"Computation of raw features completed\", \"Best run model explanations completed\"]}]}, {\"name\": \"matthews_correlation\", \"run_id\": \"AutoML_f7741924-507a-4922-89f4-f28de06f64ee\", \"categories\": [0], \"series\": [{\"data\": [0.5518573988547033]}]}, {\"name\": \"balanced_accuracy\", \"run_id\": \"AutoML_f7741924-507a-4922-89f4-f28de06f64ee\", \"categories\": [0], \"series\": [{\"data\": [0.7383619803388738]}]}, {\"name\": \"AUC_macro\", \"run_id\": \"AutoML_f7741924-507a-4922-89f4-f28de06f64ee\", \"categories\": [0], \"series\": [{\"data\": [0.9424651799491338]}]}, {\"name\": \"recall_score_macro\", \"run_id\": \"AutoML_f7741924-507a-4922-89f4-f28de06f64ee\", \"categories\": [0], \"series\": [{\"data\": [0.7383619803388738]}]}, {\"name\": \"recall_score_micro\", \"run_id\": \"AutoML_f7741924-507a-4922-89f4-f28de06f64ee\", \"categories\": [0], \"series\": [{\"data\": [0.9201820940819423]}]}, {\"name\": \"precision_score_micro\", \"run_id\": \"AutoML_f7741924-507a-4922-89f4-f28de06f64ee\", \"categories\": [0], \"series\": [{\"data\": [0.9201820940819423]}]}, {\"name\": \"AUC_weighted\", \"run_id\": \"AutoML_f7741924-507a-4922-89f4-f28de06f64ee\", \"categories\": [0], \"series\": [{\"data\": [0.9424651799491338]}]}, {\"name\": \"f1_score_micro\", \"run_id\": \"AutoML_f7741924-507a-4922-89f4-f28de06f64ee\", \"categories\": [0], \"series\": [{\"data\": [0.9201820940819423]}]}, {\"name\": \"precision_score_weighted\", \"run_id\": \"AutoML_f7741924-507a-4922-89f4-f28de06f64ee\", \"categories\": [0], \"series\": [{\"data\": [0.9126693178193268]}]}, {\"name\": \"AUC_micro\", \"run_id\": \"AutoML_f7741924-507a-4922-89f4-f28de06f64ee\", \"categories\": [0], \"series\": [{\"data\": [0.9793832104098499]}]}, {\"name\": \"f1_score_macro\", \"run_id\": \"AutoML_f7741924-507a-4922-89f4-f28de06f64ee\", \"categories\": [0], \"series\": [{\"data\": [0.7708311020316416]}]}, {\"name\": \"average_precision_score_weighted\", \"run_id\": \"AutoML_f7741924-507a-4922-89f4-f28de06f64ee\", \"categories\": [0], \"series\": [{\"data\": [0.9539762342704304]}]}, {\"name\": \"norm_macro_recall\", \"run_id\": \"AutoML_f7741924-507a-4922-89f4-f28de06f64ee\", \"categories\": [0], \"series\": [{\"data\": [0.4767239606777476]}]}, {\"name\": \"f1_score_weighted\", \"run_id\": \"AutoML_f7741924-507a-4922-89f4-f28de06f64ee\", \"categories\": [0], \"series\": [{\"data\": [0.9143989541642051]}]}, {\"name\": \"precision_score_macro\", \"run_id\": \"AutoML_f7741924-507a-4922-89f4-f28de06f64ee\", \"categories\": [0], \"series\": [{\"data\": [0.8194160707149187]}]}, {\"name\": \"log_loss\", \"run_id\": \"AutoML_f7741924-507a-4922-89f4-f28de06f64ee\", \"categories\": [0], \"series\": [{\"data\": [0.27285025566709314]}]}, {\"name\": \"accuracy\", \"run_id\": \"AutoML_f7741924-507a-4922-89f4-f28de06f64ee\", \"categories\": [0], \"series\": [{\"data\": [0.9201820940819423]}]}, {\"name\": \"average_precision_score_micro\", \"run_id\": \"AutoML_f7741924-507a-4922-89f4-f28de06f64ee\", \"categories\": [0], \"series\": [{\"data\": [0.9802616591730408]}]}, {\"name\": \"recall_score_weighted\", \"run_id\": \"AutoML_f7741924-507a-4922-89f4-f28de06f64ee\", \"categories\": [0], \"series\": [{\"data\": [0.9201820940819423]}]}, {\"name\": \"average_precision_score_macro\", \"run_id\": \"AutoML_f7741924-507a-4922-89f4-f28de06f64ee\", \"categories\": [0], \"series\": [{\"data\": [0.8205297606922544]}]}, {\"name\": \"weighted_accuracy\", \"run_id\": \"AutoML_f7741924-507a-4922-89f4-f28de06f64ee\", \"categories\": [0], \"series\": [{\"data\": [0.9653231101734875]}]}], \"run_logs\": \"\\nRun is completed.\", \"graph\": {}, \"widget_settings\": {\"childWidgetDisplay\": \"popup\", \"send_telemetry\": false, \"log_level\": \"INFO\", \"sdk_version\": \"1.47.0\"}, \"loading\": false}"
          },
          "metadata": {}
        },
        {
          "output_type": "execute_result",
          "execution_count": 13,
          "data": {
            "text/plain": "{'runId': 'AutoML_f7741924-507a-4922-89f4-f28de06f64ee',\n 'target': 'compute-cluster',\n 'status': 'Completed',\n 'startTimeUtc': '2022-11-30T17:29:36.257797Z',\n 'endTimeUtc': '2022-11-30T18:22:44.856564Z',\n 'services': {},\n 'warnings': [{'source': 'JasmineService',\n   'message': 'No scores improved over last 10 iterations, so experiment stopped early. This early stopping behavior can be disabled by setting enable_early_stopping = False in AutoMLConfig for notebook/python SDK runs.'}],\n 'properties': {'num_iterations': '1000',\n  'training_type': 'TrainFull',\n  'acquisition_function': 'EI',\n  'primary_metric': 'accuracy',\n  'train_split': '0',\n  'acquisition_parameter': '0',\n  'num_cross_validation': None,\n  'target': 'compute-cluster',\n  'AMLSettingsJsonString': '{\"path\":null,\"name\":\"capstone-automl\",\"subscription_id\":\"cca320dc-f2a1-497e-8a7a-eecff48abbb9\",\"resource_group\":\"rg1\",\"workspace_name\":\"ws-1\",\"region\":\"eastus2\",\"compute_target\":\"compute-cluster\",\"spark_service\":null,\"azure_service\":\"remote\",\"many_models\":false,\"pipeline_fetch_max_batch_size\":1,\"enable_batch_run\":true,\"enable_parallel_run\":false,\"num_procs\":null,\"enable_run_restructure\":false,\"start_auxiliary_runs_before_parent_complete\":false,\"enable_code_generation\":true,\"iterations\":1000,\"primary_metric\":\"accuracy\",\"task_type\":\"classification\",\"positive_label\":null,\"data_script\":null,\"test_size\":0.0,\"test_include_predictions_only\":false,\"validation_size\":0.0,\"n_cross_validations\":null,\"y_min\":null,\"y_max\":null,\"num_classes\":null,\"featurization\":\"auto\",\"_ignore_package_version_incompatibilities\":false,\"is_timeseries\":false,\"max_cores_per_iteration\":1,\"max_concurrent_iterations\":5,\"iteration_timeout_minutes\":null,\"mem_in_mb\":null,\"enforce_time_on_windows\":false,\"experiment_timeout_minutes\":60,\"experiment_exit_score\":null,\"partition_column_names\":null,\"whitelist_models\":null,\"blacklist_algos\":[\"TensorFlowLinearClassifier\",\"TensorFlowDNN\"],\"supported_models\":[\"MultinomialNaiveBayes\",\"DecisionTree\",\"TensorFlowLinearClassifier\",\"KNN\",\"TabnetClassifier\",\"XGBoostClassifier\",\"SVM\",\"LogisticRegression\",\"LightGBM\",\"LinearSVM\",\"TensorFlowDNN\",\"AveragedPerceptronClassifier\",\"SGD\",\"GradientBoosting\",\"ExtremeRandomTrees\",\"BernoulliNaiveBayes\",\"RandomForest\"],\"private_models\":[],\"auto_blacklist\":true,\"blacklist_samples_reached\":false,\"exclude_nan_labels\":true,\"verbosity\":20,\"_debug_log\":\"azureml_automl.log\",\"show_warnings\":false,\"model_explainability\":true,\"service_url\":null,\"sdk_url\":null,\"sdk_packages\":null,\"enable_onnx_compatible_models\":false,\"enable_split_onnx_featurizer_estimator_models\":false,\"vm_type\":\"STANDARD_D2_V2\",\"telemetry_verbosity\":20,\"send_telemetry\":true,\"enable_dnn\":false,\"scenario\":\"AutoML\",\"environment_label\":null,\"save_mlflow\":false,\"enable_categorical_indicators\":false,\"force_text_dnn\":false,\"enable_feature_sweeping\":true,\"enable_early_stopping\":true,\"early_stopping_n_iters\":10,\"arguments\":null,\"dataset_id\":\"e23ce264-cd45-41d2-a01f-f9751185e0ba\",\"hyperdrive_config\":null,\"validation_dataset_id\":null,\"run_source\":null,\"metrics\":null,\"enable_metric_confidence\":false,\"enable_ensembling\":true,\"enable_stack_ensembling\":true,\"ensemble_iterations\":15,\"enable_tf\":false,\"enable_subsampling\":null,\"subsample_seed\":null,\"enable_nimbusml\":false,\"enable_streaming\":false,\"force_streaming\":false,\"track_child_runs\":true,\"n_best_runs\":1,\"allowed_private_models\":[],\"label_column_name\":\"y\",\"weight_column_name\":null,\"cv_split_column_names\":null,\"enable_local_managed\":false,\"_local_managed_run_id\":null,\"cost_mode\":1,\"lag_length\":0,\"metric_operation\":\"maximize\",\"preprocess\":true}',\n  'DataPrepJsonString': '{\\\\\"training_data\\\\\": {\\\\\"datasetId\\\\\": \\\\\"e23ce264-cd45-41d2-a01f-f9751185e0ba\\\\\"}, \\\\\"datasets\\\\\": 0}',\n  'EnableSubsampling': None,\n  'runTemplate': 'AutoML',\n  'azureml.runsource': 'automl',\n  'display_task_type': 'classification',\n  'dependencies_versions': '{\"azureml-widgets\": \"1.47.0\", \"azureml-training-tabular\": \"1.47.0\", \"azureml-train\": \"1.47.0\", \"azureml-train-restclients-hyperdrive\": \"1.47.0\", \"azureml-train-core\": \"1.47.0\", \"azureml-train-automl\": \"1.47.0\", \"azureml-train-automl-runtime\": \"1.47.0\", \"azureml-train-automl-client\": \"1.47.0\", \"azureml-tensorboard\": \"1.47.0\", \"azureml-telemetry\": \"1.47.0\", \"azureml-sdk\": \"1.47.0\", \"azureml-samples\": \"0+unknown\", \"azureml-responsibleai\": \"1.47.0\", \"azureml-pipeline\": \"1.47.0\", \"azureml-pipeline-steps\": \"1.47.0\", \"azureml-pipeline-core\": \"1.47.0\", \"azureml-opendatasets\": \"1.47.0\", \"azureml-mlflow\": \"1.47.0\", \"azureml-interpret\": \"1.47.0\", \"azureml-inference-server-http\": \"0.7.6\", \"azureml-explain-model\": \"1.47.0\", \"azureml-defaults\": \"1.47.0\", \"azureml-dataset-runtime\": \"1.47.0\", \"azureml-dataprep\": \"4.5.7\", \"azureml-dataprep-rslex\": \"2.11.4\", \"azureml-dataprep-native\": \"38.0.0\", \"azureml-datadrift\": \"1.47.0\", \"azureml-core\": \"1.47.0\", \"azureml-contrib-services\": \"1.47.0\", \"azureml-contrib-server\": \"1.47.0\", \"azureml-contrib-reinforcementlearning\": \"1.47.0\", \"azureml-contrib-pipeline-steps\": \"1.47.0\", \"azureml-contrib-notebook\": \"1.47.0\", \"azureml-contrib-fairness\": \"1.47.0\", \"azureml-contrib-dataset\": \"1.47.0\", \"azureml-contrib-automl-pipeline-steps\": \"1.47.0\", \"azureml-cli-common\": \"1.47.0\", \"azureml-automl-runtime\": \"1.47.0\", \"azureml-automl-dnn-nlp\": \"1.47.0\", \"azureml-automl-core\": \"1.47.0\", \"azureml-accel-models\": \"1.47.0\"}',\n  '_aml_system_scenario_identification': 'Remote.Parent',\n  'ClientType': 'SDK',\n  'environment_cpu_name': 'AzureML-AutoML',\n  'environment_cpu_label': 'prod',\n  'environment_gpu_name': 'AzureML-AutoML-GPU',\n  'environment_gpu_label': 'prod',\n  'root_attribution': 'automl',\n  'attribution': 'AutoML',\n  'Orchestrator': 'AutoML',\n  'CancelUri': 'https://eastus2.api.azureml.ms/jasmine/v1.0/subscriptions/cca320dc-f2a1-497e-8a7a-eecff48abbb9/resourceGroups/rg1/providers/Microsoft.MachineLearningServices/workspaces/ws-1/experimentids/4bc891f1-b8d7-432d-bf2f-eee23e8db37a/cancel/AutoML_f7741924-507a-4922-89f4-f28de06f64ee',\n  'ClientSdkVersion': '1.46.1',\n  'snapshotId': '00000000-0000-0000-0000-000000000000',\n  'SetupRunId': 'AutoML_f7741924-507a-4922-89f4-f28de06f64ee_setup',\n  'SetupRunContainerId': 'dcid.AutoML_f7741924-507a-4922-89f4-f28de06f64ee_setup',\n  'FeaturizationRunJsonPath': 'featurizer_container.json',\n  'FeaturizationRunId': 'AutoML_f7741924-507a-4922-89f4-f28de06f64ee_featurize',\n  'ProblemInfoJsonString': '{\"dataset_num_categorical\": 0, \"is_sparse\": true, \"subsampling\": false, \"has_extra_col\": true, \"dataset_classes\": 2, \"dataset_features\": 132, \"dataset_samples\": 29655, \"single_frequency_class_detected\": false}',\n  'ModelExplainRunId': 'AutoML_f7741924-507a-4922-89f4-f28de06f64ee_ModelExplain'},\n 'inputDatasets': [{'dataset': {'id': 'e23ce264-cd45-41d2-a01f-f9751185e0ba'}, 'consumptionDetails': {'type': 'RunInput', 'inputName': 'training_data', 'mechanism': 'Direct'}}],\n 'outputDatasets': [],\n 'logFiles': {},\n 'submittedBy': 'Rohit Verma'}"
          },
          "metadata": {}
        }
      ],
      "execution_count": 13,
      "metadata": {
        "jupyter": {
          "source_hidden": false,
          "outputs_hidden": false
        },
        "nteract": {
          "transient": {
            "deleting": false
          }
        },
        "gather": {
          "logged": 1669832603797
        }
      }
    },
    {
      "cell_type": "code",
      "source": [
        "# Retrieve and save your best automl model.\r\n",
        "best_run, fitted_model = remote_run.get_output()\r\n",
        "best_run_metrics = best_run.get_metrics()"
      ],
      "outputs": [],
      "execution_count": 14,
      "metadata": {
        "jupyter": {
          "source_hidden": false,
          "outputs_hidden": false
        },
        "nteract": {
          "transient": {
            "deleting": false
          }
        },
        "gather": {
          "logged": 1669832653750
        }
      }
    },
    {
      "cell_type": "code",
      "source": [
        "import joblib\r\n",
        "joblib.dump(fitted_model, 'model.pkl')"
      ],
      "outputs": [
        {
          "output_type": "execute_result",
          "execution_count": 15,
          "data": {
            "text/plain": "['model.pkl']"
          },
          "metadata": {}
        }
      ],
      "execution_count": 15,
      "metadata": {
        "jupyter": {
          "source_hidden": false,
          "outputs_hidden": false
        },
        "nteract": {
          "transient": {
            "deleting": false
          }
        },
        "gather": {
          "logged": 1669832654003
        }
      }
    },
    {
      "cell_type": "code",
      "source": [
        "from azureml.core import Model\r\n",
        "model = Model.register(\r\n",
        "    workspace=ws, \r\n",
        "    model_name='automl_model', \r\n",
        "    model_path='./model.pkl'\r\n",
        ")"
      ],
      "outputs": [
        {
          "output_type": "stream",
          "name": "stdout",
          "text": "Registering model automl_model\n"
        }
      ],
      "execution_count": 16,
      "metadata": {
        "jupyter": {
          "source_hidden": false,
          "outputs_hidden": false
        },
        "nteract": {
          "transient": {
            "deleting": false
          }
        },
        "gather": {
          "logged": 1669832656750
        }
      }
    },
    {
      "cell_type": "code",
      "source": [
        "script_file_name = 'score_class.py'\r\n",
        "best_run.download_file(\"outputs/scoring_file_v_1_0_0.py\",script_file_name)"
      ],
      "outputs": [],
      "execution_count": 17,
      "metadata": {
        "jupyter": {
          "source_hidden": false,
          "outputs_hidden": false
        },
        "nteract": {
          "transient": {
            "deleting": false
          }
        },
        "gather": {
          "logged": 1669832658748
        }
      }
    },
    {
      "cell_type": "code",
      "source": [
        "\r\n",
        "from azureml.core import Environment\r\n",
        "# Get the environment\r\n",
        "from azureml.automl.core.shared import constants\r\n",
        "\r\n",
        "best_run.download_file(constants.CONDA_ENV_FILE_PATH, 'conda_dependencies.yml')\r\n",
        "service_env = Environment.from_conda_specification(name='deployment-env', file_path='conda_dependencies.yml')"
      ],
      "outputs": [],
      "execution_count": 18,
      "metadata": {
        "jupyter": {
          "source_hidden": false,
          "outputs_hidden": false
        },
        "nteract": {
          "transient": {
            "deleting": false
          }
        },
        "gather": {
          "logged": 1669832659752
        }
      }
    },
    {
      "cell_type": "code",
      "source": [
        "from azureml.core.model import InferenceConfig\r\n",
        "inference_config = InferenceConfig(entry_script='score_class.py',\r\n",
        "                                              source_directory= \".\",\r\n",
        "                                              environment=service_env)"
      ],
      "outputs": [],
      "execution_count": 19,
      "metadata": {
        "jupyter": {
          "source_hidden": false,
          "outputs_hidden": false
        },
        "nteract": {
          "transient": {
            "deleting": false
          }
        },
        "gather": {
          "logged": 1669832659900
        }
      }
    },
    {
      "cell_type": "code",
      "source": [
        "from azureml.core.webservice import AciWebservice\r\n",
        "\r\n",
        "deploy_config = AciWebservice.deploy_configuration(\r\n",
        "    cpu_cores=1, memory_gb=2, auth_enabled=True, enable_app_insights=True\r\n",
        ")"
      ],
      "outputs": [],
      "execution_count": 20,
      "metadata": {
        "jupyter": {
          "source_hidden": false,
          "outputs_hidden": false
        },
        "nteract": {
          "transient": {
            "deleting": false
          }
        },
        "gather": {
          "logged": 1669832660191
        }
      }
    },
    {
      "cell_type": "code",
      "source": [
        "from azureml.core.model import Model\r\n",
        "aci_service_name = \"automl-classification\"\r\n",
        "service = Model.deploy(\r\n",
        "    ws,\r\n",
        "    aci_service_name,\r\n",
        "    [model],\r\n",
        "    inference_config,\r\n",
        "    deploy_config,\r\n",
        "    overwrite=True\r\n",
        "   \r\n",
        ")\r\n",
        "service.wait_for_deployment(show_output=True)"
      ],
      "outputs": [
        {
          "output_type": "stream",
          "name": "stdout",
          "text": "Tips: You can try get_logs(): https://aka.ms/debugimage#dockerlog or local deployment: https://aka.ms/debugimage#debug-locally to debug if deployment takes longer than 10 minutes.\n.\n2022-11-30 18:28:18+00:00 Checking the status of inference endpoint automl-classification.\nSucceeded\nACI service creation operation finished, operation \"Succeeded\"\n"
        }
      ],
      "execution_count": 21,
      "metadata": {
        "jupyter": {
          "source_hidden": false,
          "outputs_hidden": false
        },
        "nteract": {
          "transient": {
            "deleting": false
          }
        },
        "gather": {
          "logged": 1669832900898
        }
      }
    },
    {
      "cell_type": "code",
      "source": [
        "import requests\r\n",
        "import json\r\n",
        "from azureml.core import Webservice\r\n",
        "import pandas as pd\r\n",
        "service = Webservice(workspace=ws, name= \"automl-classification\")\r\n",
        "scoring_uri = service.scoring_uri\r\n",
        "print(scoring_uri)\r\n",
        "# If the service is authenticated, set the key or token\r\n",
        "key, _ = service.get_keys()\r\n",
        "\r\n",
        "# Set the appropriate headers\r\n",
        "headers = {\"Content-Type\": \"application/json\"}\r\n",
        "headers[\"Authorization\"] = f\"Bearer {key}\"\r\n",
        "# Make the request and display the response and logs\r\n",
        "#data = pd.DataFrame({\"DATE\": pd.Series([\"2/1/2018\"])})\r\n",
        "data = {\r\n",
        "  \"data\": [\r\n",
        "    {\r\n",
        "      \"age\": 50,\r\n",
        "      \"job\": \"technician\",\r\n",
        "      \"marital\": \"married\",\r\n",
        "      \"education\": \"high.school\",\r\n",
        "      \"default\": \"yes\",\r\n",
        "      \"housing\": \"no\",\r\n",
        "      \"loan\": \"yes\",\r\n",
        "      \"contact\": \"cellular\",\r\n",
        "      \"month\": \"apr\",\r\n",
        "      \"day_of_week\": \"tue\",\r\n",
        "      \"duration\": 340,\r\n",
        "      \"campaign\": 1,\r\n",
        "      \"pdays\": 999,\r\n",
        "      \"previous\": 0,\r\n",
        "      \"poutcome\": \"failure\",\r\n",
        "      \"emp.var.rate\": -1.8,\r\n",
        "      \"cons.price.idx\": \t92.893,\r\n",
        "      \"cons.conf.idx\":-46.2,\r\n",
        "      \"euribor3m\": \t1.299,\r\n",
        "      \"nr.employed\": \t5099.1\r\n",
        "    }\r\n",
        "  ],\r\n",
        "  \"method\": \"predict\"\r\n",
        "}\r\n",
        "\r\n",
        "\r\n",
        "input_data = json.dumps(data)\r\n",
        "# print(type(input_data))\r\n",
        "resp = requests.post(scoring_uri, data=input_data, headers=headers)\r\n",
        "print(resp.json())"
      ],
      "outputs": [
        {
          "output_type": "stream",
          "name": "stdout",
          "text": "http://d944ae02-1c4f-4e83-8aeb-61cc34eb36e8.eastus2.azurecontainer.io/score\n{\"result\": [\"no\"]}\n"
        }
      ],
      "execution_count": 24,
      "metadata": {
        "jupyter": {
          "source_hidden": false,
          "outputs_hidden": false
        },
        "nteract": {
          "transient": {
            "deleting": false
          }
        },
        "gather": {
          "logged": 1669834055776
        }
      }
    },
    {
      "cell_type": "code",
      "source": [
        "print(service.get_logs())"
      ],
      "outputs": [],
      "execution_count": null,
      "metadata": {
        "jupyter": {
          "source_hidden": false,
          "outputs_hidden": false
        },
        "nteract": {
          "transient": {
            "deleting": false
          }
        },
        "gather": {
          "logged": 1669828194667
        }
      }
    },
    {
      "cell_type": "code",
      "source": [],
      "outputs": [],
      "execution_count": null,
      "metadata": {
        "jupyter": {
          "source_hidden": false,
          "outputs_hidden": false
        },
        "nteract": {
          "transient": {
            "deleting": false
          }
        }
      }
    },
    {
      "cell_type": "code",
      "source": [],
      "outputs": [],
      "execution_count": null,
      "metadata": {
        "jupyter": {
          "source_hidden": false,
          "outputs_hidden": false
        },
        "nteract": {
          "transient": {
            "deleting": false
          }
        }
      }
    }
  ],
  "metadata": {
    "kernelspec": {
      "name": "python38-azureml",
      "language": "python",
      "display_name": "Python 3.8 - AzureML"
    },
    "language_info": {
      "name": "python",
      "version": "3.8.5",
      "mimetype": "text/x-python",
      "codemirror_mode": {
        "name": "ipython",
        "version": 3
      },
      "pygments_lexer": "ipython3",
      "nbconvert_exporter": "python",
      "file_extension": ".py"
    },
    "kernel_info": {
      "name": "python38-azureml"
    },
    "microsoft": {
      "host": {
        "AzureML": {
          "notebookHasBeenCompleted": true
        }
      }
    },
    "nteract": {
      "version": "nteract-front-end@1.0.0"
    }
  },
  "nbformat": 4,
  "nbformat_minor": 2
}